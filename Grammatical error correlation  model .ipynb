{
 "cells": [
  {
   "cell_type": "markdown",
   "id": "b09d94f6",
   "metadata": {},
   "source": [
    "#                                                               \n",
    "                                         Grammatical Error Correction\n",
    "                                           \n",
    "Introduction:\n",
    "\n",
    "It is the process by which the detection and correction to an error in the text are done. The problem seems easy to understand but is actually tough due to the diverse vocabulary and set of rules in a language. In addition, we are not only going to identify the mistake but correction is also required.\n",
    "\n",
    "Problem statement:\n",
    "\n",
    "The main purpose of this task is to check out grammatical errors in English sentences and correct them. Grammatical error detection and correction are important applications in the automatic proofreading of English texts and in the field of English learning aids. \n",
    "With the increasing influence of English on a global scale, a huge breakthrough has been made in the task of detecting English grammatical errors. Based on machine learning,  In this input is a grammatically incorrect sentence and output is a grammatically correct sentence, So we can formulate this problem as a sequence to sequence learning problem.\n"
   ]
  },
  {
   "cell_type": "code",
   "execution_count": 43,
   "id": "37c7613b",
   "metadata": {},
   "outputs": [],
   "source": [
    "# importing library\n",
    "\n",
    "\n",
    "import pandas as pd\n",
    "import numpy as np\n",
    "import seaborn as sns\n",
    "import matplotlib.pyplot as plt\n"
   ]
  },
  {
   "cell_type": "code",
   "execution_count": 45,
   "id": "d4829a30",
   "metadata": {},
   "outputs": [],
   "source": [
    "\n",
    "# Apply the edits of a single annotator to generate the corrected sentences.\n",
    "def main():\n",
    "    \"\"\"\n",
    "    this function stores the correct sentence line by line in as txt file with file name lang8.train.auto.bea19.m2\n",
    "    \"\"\"\n",
    "    \n",
    "    data = open(\"lang8.train.auto.bea19.m2\").read().strip().split(\"\\n\\n\")  #taking a sample dataset\n",
    "    out = open(\"lang8.train.auto.bea19.txt\", \"w\")\n",
    "    # Do not apply edits with these error types\n",
    "    skip = {\"noop\", \"UNK\", \"Um\"}\n",
    "    \n",
    "    for sent in data:\n",
    "        sent = sent.split(\"\\n\")\n",
    "        cor_sent = sent[0].split()[1:] \n",
    "        edits = sent[1:]\n",
    "        offset = 0\n",
    "        for edit in edits:\n",
    "            edit = edit.split(\"|||\")\n",
    "            if edit[1] in skip: continue    # Ignore certain edits\n",
    "            coder = int(edit[-1])\n",
    "            if coder != 0: continue      # Ignore other coders\n",
    "            span = edit[0].split()[1:]      # Ignore \"A \"\n",
    "            start = int(span[0])\n",
    "            end = int(span[1])\n",
    "            cor = edit[2].split()\n",
    "            cor_sent[start+offset:end+offset] = cor\n",
    "            offset = offset-(end-start)+len(cor)\n",
    "        out.write(\" \".join(cor_sent)+\"\\n\")\n",
    "        \n",
    "main()"
   ]
  },
  {
   "cell_type": "code",
   "execution_count": 46,
   "id": "4231da31",
   "metadata": {},
   "outputs": [],
   "source": [
    "#preprocessing incorrect sentences\n",
    "\n",
    "file1 = open(\"lang8.train.auto.bea19.m2\",\"r\")\n",
    "s1 = file1.read()\n",
    "\n",
    "each_sent = s1.split(\"\\n\\n\")\n",
    "\n",
    "incorrect = []\n",
    "for i in range(len(each_sent)):\n",
    "    temp = each_sent[i].split(\"\\n\")\n",
    "    temp = temp[0]\n",
    "    temp = temp.split(\" \")\n",
    "    temp = temp[1:]# ignore S\n",
    "    temp = ' '.join(temp)\n",
    "    incorrect.append(temp)\n",
    "    \n",
    "#preprocessing correct sentences\n",
    "\n",
    "file2 = open(\"lang8.train.auto.bea19.txt\",\"r\")\n",
    "s2 = file2.read()\n",
    "\n",
    "correct = s2.split(\"\\n\")\n",
    "\n",
    "# storing correct and incorrect sentence pair into dataframe\n",
    "df = pd.DataFrame()\n",
    "df[\"correct\"] = correct\n",
    "df[\"incorrect\"] = incorrect\n",
    "\n",
    "#store into csv file named data.csv\n",
    "df.to_csv(\"data.csv\",index=False)\n"
   ]
  },
  {
   "cell_type": "markdown",
   "id": "cd11feef",
   "metadata": {},
   "source": [
    "I can see that there are some sentences that have the same pair of correct and incorrect sentences"
   ]
  },
  {
   "cell_type": "code",
   "execution_count": 47,
   "id": "3bd28e3a",
   "metadata": {},
   "outputs": [
    {
     "data": {
      "text/plain": [
       "(498360, 2)"
      ]
     },
     "execution_count": 47,
     "metadata": {},
     "output_type": "execute_result"
    }
   ],
   "source": [
    "index = []\n",
    "for i in range(len(df.values)):\n",
    "    if df.values[i][0] == df.values[i][1]:\n",
    "        index.append(i)\n",
    "df = df.drop(index)\n",
    "df.shape"
   ]
  },
  {
   "cell_type": "markdown",
   "id": "7b9bf15d",
   "metadata": {},
   "source": [
    "After removing i have only 498360 sentence out of 1037560"
   ]
  },
  {
   "cell_type": "code",
   "execution_count": 62,
   "id": "6b7d258f",
   "metadata": {},
   "outputs": [
    {
     "data": {
      "text/plain": [
       "(496339, 2)"
      ]
     },
     "execution_count": 62,
     "metadata": {},
     "output_type": "execute_result"
    }
   ],
   "source": [
    "df.isnull().values.any()\n",
    "\n",
    "df.dropna(inplace = True)\n",
    "df.shape"
   ]
  },
  {
   "cell_type": "markdown",
   "id": "8d17bf2b",
   "metadata": {},
   "source": [
    "After removing null and duplicate values I have 496339 sentence"
   ]
  },
  {
   "cell_type": "code",
   "execution_count": 63,
   "id": "a7eafdec",
   "metadata": {},
   "outputs": [
    {
     "data": {
      "text/plain": [
       "(496339, 2)"
      ]
     },
     "execution_count": 63,
     "metadata": {},
     "output_type": "execute_result"
    }
   ],
   "source": [
    "df.duplicated().values.any()\n",
    "df.drop_duplicates(inplace=True)\n",
    "df.reset_index(inplace=True,drop=True)\n",
    "df.shape"
   ]
  },
  {
   "cell_type": "markdown",
   "id": "5fee52d8",
   "metadata": {},
   "source": [
    " Exploratory Data Analysis"
   ]
  },
  {
   "cell_type": "code",
   "execution_count": 50,
   "id": "aeea6f59",
   "metadata": {},
   "outputs": [
    {
     "data": {
      "image/png": "[encoded data removed]",
      "text/plain": [
       "<Figure size 432x288 with 1 Axes>"
      ]
     },
     "metadata": {
      "needs_background": "light"
     },
     "output_type": "display_data"
    }
   ],
   "source": [
    "#plotind the pdf to correct the length of sentence\n",
    "cor_length = df[\"correct\"].str.split().apply(len)\n",
    "cor_length = list(cor_length)\n",
    "sns.kdeplot(cor_length)\n",
    "plt.xlabel(\"Length of sentences\")\n",
    "plt.ylabel(\"Frequency\")\n",
    "plt.title(\"PDF of length of correct sentences\")\n",
    "plt.show()"
   ]
  },
  {
   "cell_type": "markdown",
   "id": "3cdf252c",
   "metadata": {},
   "source": [
    "We can see the majority of sentence length less than 50 and very few sentence length more than 50."
   ]
  },
  {
   "cell_type": "code",
   "execution_count": 55,
   "id": "c714a4c3",
   "metadata": {},
   "outputs": [
    {
     "data": {
      "image/png": "[encoded data removed]",
      "text/plain": [
       "<Figure size 432x288 with 1 Axes>"
      ]
     },
     "metadata": {
      "needs_background": "light"
     },
     "output_type": "display_data"
    }
   ],
   "source": [
    "#ploting the incorrect sentence\n",
    "incor_length = df[\"incorrect\"].str.split().apply(len)\n",
    "incor_length = list(incor_length)\n",
    "sns.kdeplot(incor_length)\n",
    "plt.xlabel(\"Length of sentences\")\n",
    "plt.ylabel(\"Frequency\")\n",
    "plt.title(\"PDF of length of correct sentences\")\n",
    "plt.show()"
   ]
  },
  {
   "cell_type": "markdown",
   "id": "893fb47f",
   "metadata": {},
   "source": [
    "We can see here same behavior is happen as for output sentences"
   ]
  },
  {
   "cell_type": "code",
   "execution_count": 60,
   "id": "11c431f5",
   "metadata": {},
   "outputs": [
    {
     "name": "stdout",
     "output_type": "stream",
     "text": [
      "The total number of unique words in incorrect sentences are 102686\n"
     ]
    }
   ],
   "source": [
    "# for incorrect sentences\n",
    "\n",
    "\n",
    "split_sent = np.array(df[\"incorrect\"].str.split())\n",
    "\n",
    "unique = []\n",
    "for i in split_sent:\n",
    "    if type(i) == float:\n",
    "        continue\n",
    "    for j in i:\n",
    "        unique.append(j)\n",
    "unique_words_train_incorr = set(unique)\n",
    "print(\"The total number of  incorrect sentences are\",len(unique_words_train_incorr))"
   ]
  },
  {
   "cell_type": "code",
   "execution_count": 61,
   "id": "cff14d04",
   "metadata": {},
   "outputs": [
    {
     "name": "stdout",
     "output_type": "stream",
     "text": [
      "Total number of correct sentance are 80347\n"
     ]
    }
   ],
   "source": [
    "# for correct sentences\n",
    "split_sent = np.array(df[\"correct\"].str.split())\n",
    "\n",
    "unique = []\n",
    "for i in split_sent:\n",
    "    for j in i:\n",
    "        unique.append(j)\n",
    "unique_words_train_corr = set(unique)\n",
    "print(\"Total number of correct sentance are\",len(unique_words_train_corr))"
   ]
  },
  {
   "cell_type": "markdown",
   "id": "dbbae5bd",
   "metadata": {},
   "source": [
    "conclusion: We can see that there are 102686 and 80347 unique words in input and output sentence respectively"
   ]
  },
  {
   "cell_type": "code",
   "execution_count": null,
   "id": "a1b9902e",
   "metadata": {},
   "outputs": [],
   "source": []
  }
 ],
 "metadata": {
  "kernelspec": {
   "display_name": "Python 3",
   "language": "python",
   "name": "python3"
  },
  "language_info": {
   "codemirror_mode": {
    "name": "ipython",
    "version": 3
   },
   "file_extension": ".py",
   "mimetype": "text/x-python",
   "name": "python",
   "nbconvert_exporter": "python",
   "pygments_lexer": "ipython3",
   "version": "3.8.8"
  }
 },
 "nbformat": 4,
 "nbformat_minor": 5
}

{
 "cells": [
  {
   "cell_type": "code",
   "execution_count": 2,
   "id": "c747e29f",
   "metadata": {},
   "outputs": [
    {
     "name": "stdout",
     "output_type": "stream",
     "text": [
      "Default Index:\n",
      "  school_code class     name         DOB  weight address t_id\n",
      "0        s001     v     Gino  12/02/1994      35     st1   t1\n",
      "1        s002     V    filis  05/05/1996      45     st2   t2\n",
      "2        s003    VI  alberto  14/06/1990      36     st3   t3\n",
      "3        s004    VI    remon  14/07/1998      34     st4   t4\n",
      "4        s005   VII    reyan  14/04/1991      29     st5   t5\n",
      "\n",
      "scholl_code as new Index:\n",
      "            class     name         DOB  weight address t_id\n",
      "school_code                                                \n",
      "s001            v     Gino  12/02/1994      35     st1   t1\n",
      "s002            V    filis  05/05/1996      45     st2   t2\n",
      "s003           VI  alberto  14/06/1990      36     st3   t3\n",
      "s004           VI    remon  14/07/1998      34     st4   t4\n",
      "s005          VII    reyan  14/04/1991      29     st5   t5\n",
      "\n",
      "t_id as new Index:\n",
      "     school_code class     name         DOB  weight address\n",
      "t_id                                                       \n",
      "t1          s001     v     Gino  12/02/1994      35     st1\n",
      "t2          s002     V    filis  05/05/1996      45     st2\n",
      "t3          s003    VI  alberto  14/06/1990      36     st3\n",
      "t4          s004    VI    remon  14/07/1998      34     st4\n",
      "t5          s005   VII    reyan  14/04/1991      29     st5\n"
     ]
    }
   ],
   "source": [
    "#indexing (set a column as index )\n",
    "import pandas as pd\n",
    "df = pd.DataFrame({\n",
    "    'school_code':['s001','s002','s003','s004','s005'],\n",
    "    'class':['v','V','VI','VI','VII'],\n",
    "    'name':['Gino','filis','alberto','remon','reyan'],\n",
    "    'DOB':['12/02/1994','05/05/1996','14/06/1990','14/07/1998','14/04/1991'],\n",
    "    'weight':[35,45,36,34,29],\n",
    "    'address':['st1','st2','st3','st4','st5'],\n",
    "    't_id':['t1','t2','t3','t4','t5']})\n",
    "print(\"Default Index:\")\n",
    "print(df.head(10))\n",
    "print(\"\\nscholl_code as new Index:\")\n",
    "df1 = df.set_index('school_code')\n",
    "print(df1)\n",
    "print(\"\\nt_id as new Index:\")\n",
    "df2 = df.set_index('t_id')\n",
    "print(df2)"
   ]
  },
  {
   "cell_type": "code",
   "execution_count": 11,
   "id": "4e4c90e4",
   "metadata": {},
   "outputs": [
    {
     "name": "stdout",
     "output_type": "stream",
     "text": [
      "Original DataFrame:\n",
      "   code class     name         DOB  weight  add t_id\n",
      "0  r001     V   ritika  03/04/1998      34  st2   t1\n",
      "1  r002     V     soni  05/03/2002      36  st3   t2\n",
      "2  r003     V  nishita  04/03/2002      37  st4   t3\n",
      "3  r004     V   punita  02/01/2001      40  st5   t4\n",
      "4  r005     V    pulki  06/07/2002      39  st6   t5\n",
      "\n",
      "MultiIndex using columns 't_id' and 'code':\n",
      "            class     name         DOB  weight address t_id\n",
      "school_code                                                \n",
      "s001            v     Gino  12/02/1994      35     st1   t1\n",
      "s002            V    filis  05/05/1996      45     st2   t2\n",
      "s003           VI  alberto  14/06/1990      36     st3   t3\n",
      "s004           VI    remon  14/07/1998      34     st4   t4\n",
      "s005          VII    reyan  14/04/1991      29     st5   t5\n",
      "\n",
      "MultiIndex using an Index and a column:\n"
     ]
    },
    {
     "ename": "KeyError",
     "evalue": "\"None of ['t_id'] are in the columns\"",
     "output_type": "error",
     "traceback": [
      "\u001b[1;31m---------------------------------------------------------------------------\u001b[0m",
      "\u001b[1;31mKeyError\u001b[0m                                  Traceback (most recent call last)",
      "\u001b[1;32m<ipython-input-11-6b94e9c241da>\u001b[0m in \u001b[0;36m<module>\u001b[1;34m\u001b[0m\n\u001b[0;32m     14\u001b[0m \u001b[0mprint\u001b[0m\u001b[1;33m(\u001b[0m\u001b[0mdf1\u001b[0m\u001b[1;33m)\u001b[0m\u001b[1;33m\u001b[0m\u001b[1;33m\u001b[0m\u001b[0m\n\u001b[0;32m     15\u001b[0m \u001b[0mprint\u001b[0m\u001b[1;33m(\u001b[0m\u001b[1;34m\"\\nMultiIndex using an Index and a column:\"\u001b[0m\u001b[1;33m)\u001b[0m\u001b[1;33m\u001b[0m\u001b[1;33m\u001b[0m\u001b[0m\n\u001b[1;32m---> 16\u001b[1;33m \u001b[0mdf2\u001b[0m \u001b[1;33m=\u001b[0m \u001b[0mdf\u001b[0m\u001b[1;33m.\u001b[0m\u001b[0mset_index\u001b[0m\u001b[1;33m(\u001b[0m\u001b[1;33m[\u001b[0m\u001b[0mpd\u001b[0m\u001b[1;33m.\u001b[0m\u001b[0mIndex\u001b[0m\u001b[1;33m(\u001b[0m\u001b[1;33m[\u001b[0m\u001b[1;36m0\u001b[0m\u001b[1;33m,\u001b[0m\u001b[1;36m1\u001b[0m\u001b[1;33m,\u001b[0m\u001b[1;36m2\u001b[0m\u001b[1;33m,\u001b[0m\u001b[1;36m3\u001b[0m\u001b[1;33m,\u001b[0m\u001b[1;36m4\u001b[0m\u001b[1;33m,\u001b[0m\u001b[1;33m]\u001b[0m\u001b[1;33m)\u001b[0m\u001b[1;33m,\u001b[0m\u001b[1;34m't_id'\u001b[0m\u001b[1;33m]\u001b[0m\u001b[1;33m)\u001b[0m\u001b[1;33m\u001b[0m\u001b[1;33m\u001b[0m\u001b[0m\n\u001b[0m\u001b[0;32m     17\u001b[0m \u001b[0mprint\u001b[0m\u001b[1;33m(\u001b[0m\u001b[0mdf2\u001b[0m\u001b[1;33m)\u001b[0m\u001b[1;33m\u001b[0m\u001b[1;33m\u001b[0m\u001b[0m\n",
      "\u001b[1;32m~\\anaconda3\\lib\\site-packages\\pandas\\core\\frame.py\u001b[0m in \u001b[0;36mset_index\u001b[1;34m(self, keys, drop, append, inplace, verify_integrity)\u001b[0m\n\u001b[0;32m   4725\u001b[0m \u001b[1;33m\u001b[0m\u001b[0m\n\u001b[0;32m   4726\u001b[0m         \u001b[1;32mif\u001b[0m \u001b[0mmissing\u001b[0m\u001b[1;33m:\u001b[0m\u001b[1;33m\u001b[0m\u001b[1;33m\u001b[0m\u001b[0m\n\u001b[1;32m-> 4727\u001b[1;33m             \u001b[1;32mraise\u001b[0m \u001b[0mKeyError\u001b[0m\u001b[1;33m(\u001b[0m\u001b[1;34mf\"None of {missing} are in the columns\"\u001b[0m\u001b[1;33m)\u001b[0m\u001b[1;33m\u001b[0m\u001b[1;33m\u001b[0m\u001b[0m\n\u001b[0m\u001b[0;32m   4728\u001b[0m \u001b[1;33m\u001b[0m\u001b[0m\n\u001b[0;32m   4729\u001b[0m         \u001b[1;32mif\u001b[0m \u001b[0minplace\u001b[0m\u001b[1;33m:\u001b[0m\u001b[1;33m\u001b[0m\u001b[1;33m\u001b[0m\u001b[0m\n",
      "\u001b[1;31mKeyError\u001b[0m: \"None of ['t_id'] are in the columns\""
     ]
    }
   ],
   "source": [
    "df = pd.DataFrame({\n",
    "    'code':['r001','r002','r003','r004','r005'],\n",
    "    'class':['V','V','V','V','V'],\n",
    "    'name':['ritika','soni','nishita','punita','pulki'],\n",
    "    'DOB':['03/04/1998','05/03/2002','04/03/2002','02/01/2001','06/07/2002'],\n",
    "    'weight':[34,36,37,40,39],\n",
    "    'add':['st2','st3','st4','st5','st6'],\n",
    "    't_id':['t1','t2','t3','t4','t5']})\n",
    "\n",
    "print(\"Original DataFrame:\")\n",
    "print(df)\n",
    "print(\"\\nMultiIndex using columns 't_id' and 'code':\")\n",
    "df = df.set_index(['t_id','code'])\n",
    "print(df1)\n",
    "print(\"\\nMultiIndex using an Index and a column:\")\n",
    "df2 = df.set_index([pd.Index([0,1,2,3,4,]),'t_id'])\n",
    "print(df2)"
   ]
  },
  {
   "cell_type": "code",
   "execution_count": 18,
   "id": "6ea242a7",
   "metadata": {},
   "outputs": [
    {
     "name": "stdout",
     "output_type": "stream",
     "text": [
      "Create an Inti64Index:\n",
      "  school_code class    name         DOB  weight address\n",
      "1        s001     V  albrto  12/03/2001      35     st1\n",
      "2        s002     V  franco  13/04/2002      40     st2\n",
      "3        s003     V    gini  14/05/2003      39     st3\n",
      "4        s004     V   ryano  12/05/2004      38     st4\n",
      "5        s005     V   david  13/02/2001      39     st5\n",
      "6        s006     V    siya  12/03/2003      34     st6\n",
      "\n",
      "View the Index:\n",
      "Int64Index([1, 2, 3, 4, 5, 6], dtype='int64')\n",
      "\n",
      "Floating-pont labels using FloatingIndex:\n",
      "    school_code class     name         DOB  weight address\n",
      "0.1        s001     V  alberto  12/03/2001      35     st1\n",
      "0.2        s002     V   franco  13/04/2002      40     st2\n",
      "0.3        s003     V     gini  14/05/2003      39     st3\n",
      "0.4        s001     V    ryano  12/05/2004      38     st4\n",
      "0.5        s002     V    david  13/02/2001      39     st5\n",
      "0.6        s004     V     siya  12/03/2003      34     st6\n",
      "\n",
      "View the Index:\n",
      "Float64Index([0.1, 0.2, 0.3, 0.4, 0.5, 0.6], dtype='float64')\n"
     ]
    }
   ],
   "source": [
    "#create an 64-bit integers\n",
    "\n",
    "print(\"Create an Inti64Index:\")\n",
    "df_i64 = pd.DataFrame({\n",
    "    'school_code':['s001','s002','s003','s004','s005','s006'],\n",
    "    'class':['V','V','V','V','V','V'],\n",
    "    'name':['albrto','franco','gini','ryano','david','siya'],\n",
    "    'DOB':['12/03/2001','13/04/2002','14/05/2003','12/05/2004','13/02/2001','12/03/2003'],\n",
    "    'weight':[35,40,39,38,39,34],\n",
    "    'address':['st1','st2','st3','st4','st5','st6']},\n",
    "    index=[1,2,3,4,5,6])\n",
    "print(df_i64)\n",
    "print(\"\\nView the Index:\")\n",
    "print(df_i64.index)\n",
    "\n",
    "print('\\nFloating-pont labels using FloatingIndex:')\n",
    "df_f64 = pd.DataFrame({\n",
    "    'school_code':['s001','s002','s003','s001','s002','s004'],\n",
    "    'class':['V','V','V','V','V','V'],\n",
    "    'name':['alberto','franco','gini','ryano','david','siya'],\n",
    "    'DOB':['12/03/2001','13/04/2002','14/05/2003','12/05/2004','13/02/2001','12/03/2003'],\n",
    "    'weight':[35,40,39,38,39,34],\n",
    "    'address':['st1','st2','st3','st4','st5','st6']},\n",
    "    index = [.1,.2,.3,.4,.5,.6])\n",
    "print(df_f64)\n",
    "print(\"\\nView the Index:\")\n",
    "print(df_f64.index)"
   ]
  },
  {
   "cell_type": "code",
   "execution_count": 20,
   "id": "bf563ad4",
   "metadata": {},
   "outputs": [
    {
     "name": "stdout",
     "output_type": "stream",
     "text": [
      "create an Interval Index using IntervalIndex.from_breaks:\n",
      "            X\n",
      "(0.0, 0.5]  1\n",
      "(0.5, 1.0]  2\n",
      "(1.0, 1.5]  3\n",
      "(1.5, 2.0]  4\n",
      "(2.0, 2.5]  5\n",
      "(2.5, 3.0]  6\n",
      "(3.0, 3.5]  7\n",
      "IntervalIndex([(0.0, 0.5], (0.5, 1.0], (1.0, 1.5], (1.5, 2.0], (2.0, 2.5], (2.5, 3.0], (3.0, 3.5]],\n",
      "              closed='right',\n",
      "              dtype='interval[float64]')\n",
      "\n",
      "Create an Interval Index using IntervalIndex.from_tuples:\n",
      "            X\n",
      "(0.0, 0.5]  1\n",
      "(0.5, 1.0]  2\n",
      "(1.0, 1.5]  3\n",
      "(1.5, 2.0]  4\n",
      "(2.0, 2.5]  5\n",
      "(2.5, 3.0]  6\n",
      "(3.0, 3.5]  7\n",
      "IntervalIndex([(0.0, 0.5], (0.5, 1.0], (1.0, 1.5], (1.5, 2.0], (2.0, 2.5], (2.5, 3.0], (3.0, 3.5]],\n",
      "              closed='right',\n",
      "              dtype='interval[float64]')\n",
      "\n",
      "Create an Interval Index using IntervalIndex.form_arrays:\n",
      "            X\n",
      "(0.0, 0.5]  1\n",
      "(0.5, 1.0]  2\n",
      "(1.0, 1.5]  3\n",
      "(1.5, 2.0]  4\n",
      "(2.0, 2.5]  5\n",
      "(2.5, 3.0]  6\n",
      "(3.0, 3.5]  7\n",
      "IntervalIndex([(0.0, 0.5], (0.5, 1.0], (1.0, 1.5], (1.5, 2.0], (2.0, 2.5], (2.5, 3.0], (3.0, 3.5]],\n",
      "              closed='right',\n",
      "              dtype='interval[float64]')\n"
     ]
    }
   ],
   "source": [
    "#create a DataFrame using interval as an index.\n",
    "print(\"create an Interval Index using IntervalIndex.from_breaks:\")\n",
    "df_interval = pd.DataFrame({\"X\":[1,2,3,4,5,6,7]},\n",
    "                          index = pd.IntervalIndex.from_breaks(\n",
    "                          [0,0.5,1.0,1.5,2.0,2.5,3,3.5]))\n",
    "\n",
    "print(df_interval)\n",
    "print(df_interval.index)\n",
    "\n",
    "print(\"\\nCreate an Interval Index using IntervalIndex.from_tuples:\")\n",
    "df_interval = pd.DataFrame({\"X\":[1,2,3,4,5,6,7]},\n",
    "                          index = pd.IntervalIndex.from_tuples(\n",
    "                          [(0,.5),(.5,1),(1,1.5),(1.5,2),(2,2.5),(2.5,3),(3,3.5)]))\n",
    "\n",
    "print(df_interval)\n",
    "print(df_interval.index)\n",
    "\n",
    "print(\"\\nCreate an Interval Index using IntervalIndex.form_arrays:\")\n",
    "df_interval = pd.DataFrame({\"X\":[1,2,3,4,5,6,7]},\n",
    "                          index = pd.IntervalIndex.from_arrays(\n",
    "                          [0,.5,1,1.5,2,2.5,3],[.5,1,1.5,2,2.5,3,3.5]))\n",
    "print(df_interval)\n",
    "print(df_interval.index)\n"
   ]
  },
  {
   "cell_type": "code",
   "execution_count": 21,
   "id": "9f087704",
   "metadata": {},
   "outputs": [
    {
     "name": "stdout",
     "output_type": "stream",
     "text": [
      "Create a dataframe,indexing by date and time:\n",
      "                     Sale_amt\n",
      "2020-05-12 07:10:10       100\n",
      "2020-05-12 07:10:11       110\n",
      "2020-05-12 07:10:12       117\n",
      "2020-05-12 07:10:13       150\n",
      "2020-05-12 07:10:14       112\n",
      "2020-05-12 07:10:15        99\n",
      "2020-05-12 07:10:16       129\n",
      "2020-05-12 07:10:17       135\n",
      "2020-05-12 07:10:18       140\n",
      "2020-05-12 07:10:19       150\n"
     ]
    }
   ],
   "source": [
    "#indexing by date and time\n",
    "print(\"Create a dataframe,indexing by date and time:\")\n",
    "dt_range = pd.date_range(start = '2020-05-12  07:10:10',freq = 's',periods =10)\n",
    "df_dt = pd.DataFrame({\"Sale_amt\":[100,110,117,150,112,99,129,135,140,150]},\n",
    "                    index = dt_range)\n",
    "print(df_dt)"
   ]
  },
  {
   "cell_type": "code",
   "execution_count": 22,
   "id": "de78712c",
   "metadata": {},
   "outputs": [
    {
     "name": "stdout",
     "output_type": "stream",
     "text": [
      "Original DataFrame:\n",
      "   school_code class     name          weight address\n",
      "t1        s001     V  alberto  34,56,45,34,23     st1\n",
      "t2        s002     V   reyano  34,56,45,34,23     st2\n",
      "t3        s003    VI    david  34,56,45,34,23     st3\n",
      "t4        s004     V   ginima  34,56,45,34,23     st4\n",
      "t5        s005     V   sitima  34,56,45,34,23     st5\n",
      "\n",
      "said DataFrame with a title or name of the index column:\n",
      "           school_code class     name          weight address\n",
      "Index_name                                                   \n",
      "t1                s001     V  alberto  34,56,45,34,23     st1\n",
      "t2                s002     V   reyano  34,56,45,34,23     st2\n",
      "t3                s003    VI    david  34,56,45,34,23     st3\n",
      "t4                s004     V   ginima  34,56,45,34,23     st4\n",
      "t5                s005     V   sitima  34,56,45,34,23     st5\n"
     ]
    }
   ],
   "source": [
    "#set a title or name of the index\n",
    "df = pd.DataFrame({\n",
    "    'school_code':['s001','s002','s003','s004','s005'],\n",
    "    'class':['V','V','VI','V','V'],\n",
    "    'name':['alberto','reyano','david','ginima','sitima'],\n",
    "    'weight':['34,56,45,34,23'],\n",
    "    'address':['st1','st2','st3','st4','st5']},\n",
    "    index = ['t1','t2','t3','t4','t5'])\n",
    "\n",
    "print(\"Original DataFrame:\")\n",
    "print(df)\n",
    "df.index.name = 'Index_name'\n",
    "print(\"\\nsaid DataFrame with a title or name of the index column:\")\n",
    "print(df)"
   ]
  },
  {
   "cell_type": "code",
   "execution_count": 26,
   "id": "01fc9fef",
   "metadata": {},
   "outputs": [
    {
     "name": "stdout",
     "output_type": "stream",
     "text": [
      "original DataFrame:\n",
      "   school_code class     name  age  weight\n",
      "t1        s001     v  alberto   15      35\n",
      "t2        s002     V   franco   16      23\n",
      "t3        s003    VI     gino   12      41\n",
      "t4        s001    VI    ryano   14      23\n",
      "t5        s002     V    david   11      25\n",
      "t6        s004    VI   siyano   14      30\n",
      "\n",
      "Set school code 's004'to 's005':\n",
      "   school_code class     name  age  weight\n",
      "t1        s001     v  alberto   15      35\n",
      "t2        s002     V   franco   16      23\n",
      "t3        s003    VI     gino   12      41\n",
      "t4        s001    VI    ryano   14      23\n",
      "t5        s005     V    david   11      25\n",
      "t6        s004    VI   siyano   14      30\n",
      "\n",
      "Set age of alterto to 15:\n",
      "   school_code class     name  age  weight\n",
      "t1        s001     v  alberto   15      35\n",
      "t2        s002     V   franco   16      23\n",
      "t3        s003    VI     gino   12      41\n",
      "t4        s001    VI    ryano   14      23\n",
      "t5        s005     V    david   11      25\n",
      "t6        s004    VI   siyano   14      30\n"
     ]
    }
   ],
   "source": [
    "#set calue in a specific cell in a given dataframe\n",
    "df = pd.DataFrame({\n",
    "    'school_code':['s001','s002','s003','s001','s002','s004'],\n",
    "    'class':['v','V','VI','VI','V','VI'],\n",
    "    'name':['alberto','franco','gino','ryano','david','siyano'],\n",
    "    'age':[15,16,12,14,11,14],\n",
    "    'weight':[35,23,41,23,25,30]},\n",
    "    index = ['t1','t2','t3','t4','t5','t6'])\n",
    "print(\"original DataFrame:\")\n",
    "print(df)\n",
    "print(\"\\nSet school code 's004'to 's005':\")\n",
    "df.at['t5','school_code']='s005'\n",
    "print(df)\n",
    "print(\"\\nSet age of alterto to 15:\")\n",
    "df.at['t1','age']= '15'\n",
    "print(df)"
   ]
  },
  {
   "cell_type": "code",
   "execution_count": null,
   "id": "5c97c2b3",
   "metadata": {},
   "outputs": [],
   "source": []
  }
 ],
 "metadata": {
  "kernelspec": {
   "display_name": "Python 3",
   "language": "python",
   "name": "python3"
  },
  "language_info": {
   "codemirror_mode": {
    "name": "ipython",
    "version": 3
   },
   "file_extension": ".py",
   "mimetype": "text/x-python",
   "name": "python",
   "nbconvert_exporter": "python",
   "pygments_lexer": "ipython3",
   "version": "3.8.8"
  }
 },
 "nbformat": 4,
 "nbformat_minor": 5
}

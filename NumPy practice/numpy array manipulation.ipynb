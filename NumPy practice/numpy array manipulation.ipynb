{
 "cells": [
  {
   "cell_type": "code",
   "execution_count": 68,
   "id": "93e32066",
   "metadata": {},
   "outputs": [
    {
     "name": "stdout",
     "output_type": "stream",
     "text": [
      "[ 0  2  4  6  8 10 12 14 16 18 20 22 24 26 28]\n"
     ]
    }
   ],
   "source": [
    "array = np.arange(0,30,2)\n",
    "print(array)"
   ]
  },
  {
   "cell_type": "code",
   "execution_count": 70,
   "id": "7cab2c34",
   "metadata": {},
   "outputs": [
    {
     "name": "stdout",
     "output_type": "stream",
     "text": [
      "[[ 0  2  4]\n",
      " [ 6  8 10]\n",
      " [12 14 16]\n",
      " [18 20 22]\n",
      " [24 26 28]]\n"
     ]
    }
   ],
   "source": [
    "my=array.reshape(5,3)\n",
    "print(my)"
   ]
  },
  {
   "cell_type": "code",
   "execution_count": 72,
   "id": "8bcababe",
   "metadata": {},
   "outputs": [
    {
     "name": "stdout",
     "output_type": "stream",
     "text": [
      "10\n"
     ]
    }
   ],
   "source": [
    "print(array.flat[5]) #returns an 1-5 iterator"
   ]
  },
  {
   "cell_type": "code",
   "execution_count": 75,
   "id": "08d0922c",
   "metadata": {},
   "outputs": [
    {
     "name": "stdout",
     "output_type": "stream",
     "text": [
      "[ 0  2  4  6  8 10 12 14 16 18 20 22 24 26 28]\n"
     ]
    }
   ],
   "source": [
    "print(my.flatten())   #restore the reshaped array"
   ]
  },
  {
   "cell_type": "code",
   "execution_count": 77,
   "id": "a178a6ed",
   "metadata": {},
   "outputs": [
    {
     "name": "stdout",
     "output_type": "stream",
     "text": [
      "[[ 0  6 12 18 24]\n",
      " [ 2  8 14 20 26]\n",
      " [ 4 10 16 22 28]]\n"
     ]
    }
   ],
   "source": [
    "print(my.transpose())  # thos helps to transposr of the given array"
   ]
  },
  {
   "cell_type": "code",
   "execution_count": 79,
   "id": "0b79a23e",
   "metadata": {},
   "outputs": [
    {
     "name": "stdout",
     "output_type": "stream",
     "text": [
      "[[[0 1]\n",
      "  [2 3]]\n",
      "\n",
      " [[4 5]\n",
      "  [6 7]]]\n"
     ]
    }
   ],
   "source": [
    "myarray= np.arange(8).reshape(2,2,2)   # interchange the two axes of an array\n",
    "print(myarray)"
   ]
  },
  {
   "cell_type": "code",
   "execution_count": 80,
   "id": "dd6424e9",
   "metadata": {},
   "outputs": [
    {
     "name": "stdout",
     "output_type": "stream",
     "text": [
      "[[[0 4]\n",
      "  [2 6]]\n",
      "\n",
      " [[1 5]\n",
      "  [3 7]]]\n"
     ]
    }
   ],
   "source": [
    "print(np.swapaxes(myarray,2,0))"
   ]
  },
  {
   "cell_type": "code",
   "execution_count": 81,
   "id": "20e9c356",
   "metadata": {},
   "outputs": [
    {
     "name": "stdout",
     "output_type": "stream",
     "text": [
      "[[[0 2]\n",
      "  [4 6]]\n",
      "\n",
      " [[1 3]\n",
      "  [5 7]]]\n"
     ]
    }
   ],
   "source": [
    "print(np.rollaxis(myarray,2))"
   ]
  },
  {
   "cell_type": "code",
   "execution_count": 82,
   "id": "9e0d73bf",
   "metadata": {},
   "outputs": [
    {
     "name": "stdout",
     "output_type": "stream",
     "text": [
      "[[1 2 3]\n",
      " [4 5 6]]\n"
     ]
    }
   ],
   "source": [
    "array = np.array([[1,2,3],[4,5,6]])\n",
    "print(array)"
   ]
  },
  {
   "cell_type": "code",
   "execution_count": 83,
   "id": "7d68f2ed",
   "metadata": {},
   "outputs": [
    {
     "name": "stdout",
     "output_type": "stream",
     "text": [
      "[[1 2]\n",
      " [3 4]\n",
      " [5 6]]\n"
     ]
    }
   ],
   "source": [
    "print(np.resize(array,(3,2)))"
   ]
  },
  {
   "cell_type": "code",
   "execution_count": 84,
   "id": "ff6d96a4",
   "metadata": {},
   "outputs": [
    {
     "name": "stdout",
     "output_type": "stream",
     "text": [
      "[[1 2 3]\n",
      " [4 5 6]]\n"
     ]
    }
   ],
   "source": [
    "array = np.array([[1,2,3],[4,5,6]])\n",
    "print(array)"
   ]
  },
  {
   "cell_type": "code",
   "execution_count": 85,
   "id": "e4a228a7",
   "metadata": {},
   "outputs": [
    {
     "name": "stdout",
     "output_type": "stream",
     "text": [
      "[1 2 3 4 5 6 7 8 9]\n"
     ]
    }
   ],
   "source": [
    "print(np.append(array,[7,8,9]))"
   ]
  },
  {
   "cell_type": "markdown",
   "id": "a9181e5e",
   "metadata": {},
   "source": [
    "# numpy mathmetical function"
   ]
  },
  {
   "cell_type": "code",
   "execution_count": 86,
   "id": "de4355cf",
   "metadata": {},
   "outputs": [
    {
     "name": "stdout",
     "output_type": "stream",
     "text": [
      "[  0  30  45  60  90 180 360]\n"
     ]
    }
   ],
   "source": [
    "angles = np.array([0,30,45,60,90,180,360])\n",
    "print(angles)"
   ]
  },
  {
   "cell_type": "code",
   "execution_count": 88,
   "id": "6e126213",
   "metadata": {},
   "outputs": [
    {
     "name": "stdout",
     "output_type": "stream",
     "text": [
      "[ 0.00000000e+00  5.00000000e-01  7.07106781e-01  8.66025404e-01\n",
      "  1.00000000e+00  1.22464680e-16 -2.44929360e-16]\n"
     ]
    }
   ],
   "source": [
    "print(np.sin(angles*np.pi/180))   #convert to radians by multiplying with pi/180"
   ]
  },
  {
   "cell_type": "code",
   "execution_count": 90,
   "id": "68f26295",
   "metadata": {},
   "outputs": [
    {
     "name": "stdout",
     "output_type": "stream",
     "text": [
      "[ 1.00000000e+00  8.66025404e-01  7.07106781e-01  5.00000000e-01\n",
      "  6.12323400e-17 -1.00000000e+00  1.00000000e+00]\n"
     ]
    }
   ],
   "source": [
    " print(np.cos(angles*np.pi/180))    #for cosine of angles"
   ]
  },
  {
   "cell_type": "code",
   "execution_count": 92,
   "id": "12a31e80",
   "metadata": {},
   "outputs": [
    {
     "name": "stdout",
     "output_type": "stream",
     "text": [
      "[ 0.00000000e+00  5.77350269e-01  1.00000000e+00  1.73205081e+00\n",
      "  1.63312394e+16 -1.22464680e-16 -2.44929360e-16]\n"
     ]
    }
   ],
   "source": [
    "print(np.tan(angles*np.pi/180))   #for getting cosine of angles"
   ]
  },
  {
   "cell_type": "code",
   "execution_count": 96,
   "id": "91170e46",
   "metadata": {},
   "outputs": [],
   "source": [
    "sine = np.sin(angles * np.pi/180)\n",
    "sineinv =  np.arcsin(sine)           #for computing inverse of trigonometric functions"
   ]
  },
  {
   "cell_type": "code",
   "execution_count": 98,
   "id": "ea977547",
   "metadata": {},
   "outputs": [
    {
     "name": "stdout",
     "output_type": "stream",
     "text": [
      "[ 0.00000000e+00  3.00000000e+01  4.50000000e+01  6.00000000e+01\n",
      "  9.00000000e+01  7.01670930e-15 -1.40334186e-14]\n"
     ]
    }
   ],
   "source": [
    "print(np.degrees(sineinv))       #computing angle from inverse"
   ]
  },
  {
   "cell_type": "code",
   "execution_count": 100,
   "id": "bfb93f0c",
   "metadata": {},
   "outputs": [
    {
     "name": "stdout",
     "output_type": "stream",
     "text": [
      "[ 0.      0.5     0.7071  0.866   1.      0.     -0.    ]\n"
     ]
    }
   ],
   "source": [
    "print(np.around(sine,4))    #for rounding the values"
   ]
  },
  {
   "cell_type": "code",
   "execution_count": 101,
   "id": "4da471dc",
   "metadata": {},
   "outputs": [
    {
     "name": "stdout",
     "output_type": "stream",
     "text": [
      "[ 0.  0.  0.  0.  1.  0. -1.]\n"
     ]
    }
   ],
   "source": [
    "print(np.floor(sine))  #for rounding to previous integer"
   ]
  },
  {
   "cell_type": "code",
   "execution_count": 102,
   "id": "52eef6bc",
   "metadata": {},
   "outputs": [
    {
     "name": "stdout",
     "output_type": "stream",
     "text": [
      "[ 0.  1.  1.  1.  1.  1. -0.]\n"
     ]
    }
   ],
   "source": [
    "#for rounding to text integer\n",
    "print(np.ceil(sine))"
   ]
  },
  {
   "cell_type": "code",
   "execution_count": 103,
   "id": "c3129504",
   "metadata": {},
   "outputs": [
    {
     "name": "stdout",
     "output_type": "stream",
     "text": [
      "[[ 0  1  2  3]\n",
      " [ 4  5  6  7]\n",
      " [ 8  9 10 11]]\n"
     ]
    }
   ],
   "source": [
    "myarray = np.arange(12).reshape(3,4)\n",
    "print(myarray)"
   ]
  },
  {
   "cell_type": "code",
   "execution_count": 104,
   "id": "4d31ea7b",
   "metadata": {},
   "outputs": [
    {
     "name": "stdout",
     "output_type": "stream",
     "text": [
      "[0 1 2 3]\n"
     ]
    }
   ],
   "source": [
    "array=np.arange(4)\n",
    "print(array)"
   ]
  },
  {
   "cell_type": "code",
   "execution_count": 106,
   "id": "06e49270",
   "metadata": {},
   "outputs": [
    {
     "name": "stdout",
     "output_type": "stream",
     "text": [
      "[[0 0 0 0]\n",
      " [4 4 4 4]\n",
      " [8 8 8 8]]\n"
     ]
    }
   ],
   "source": [
    "print(np.subtract(myarray,array))   # subtracting above two arrays"
   ]
  },
  {
   "cell_type": "code",
   "execution_count": 107,
   "id": "3bf61d7c",
   "metadata": {},
   "outputs": [
    {
     "name": "stdout",
     "output_type": "stream",
     "text": [
      "[[ 0  2  4  6]\n",
      " [ 4  6  8 10]\n",
      " [ 8 10 12 14]]\n"
     ]
    }
   ],
   "source": [
    "print(np.add(myarray,array))   #adding above two array"
   ]
  },
  {
   "cell_type": "code",
   "execution_count": 109,
   "id": "72fa6bc7",
   "metadata": {},
   "outputs": [
    {
     "name": "stdout",
     "output_type": "stream",
     "text": [
      "[[ 0  1  4  9]\n",
      " [ 0  5 12 21]\n",
      " [ 0  9 20 33]]\n"
     ]
    }
   ],
   "source": [
    "print(np.multiply(array,myarray))   # multiplication of two array"
   ]
  },
  {
   "cell_type": "code",
   "execution_count": 111,
   "id": "8bfd21b6",
   "metadata": {},
   "outputs": [
    {
     "name": "stdout",
     "output_type": "stream",
     "text": [
      "[[       nan 1.         1.         1.        ]\n",
      " [0.         0.2        0.33333333 0.42857143]\n",
      " [0.         0.11111111 0.2        0.27272727]]\n"
     ]
    },
    {
     "name": "stderr",
     "output_type": "stream",
     "text": [
      "<ipython-input-111-85307c1b1c1b>:1: RuntimeWarning: invalid value encountered in true_divide\n",
      "  print(np.divide(array,myarray))    #division of two array\n"
     ]
    }
   ],
   "source": [
    "print(np.divide(array,myarray))    #division of two array"
   ]
  },
  {
   "cell_type": "code",
   "execution_count": 114,
   "id": "d1de671b",
   "metadata": {},
   "outputs": [
    {
     "name": "stdout",
     "output_type": "stream",
     "text": [
      "[1 4 9]\n"
     ]
    }
   ],
   "source": [
    "#numpy.power():   return array element raised to the specified value result\n",
    "array = np.array([1,2,3])\n",
    "print(np.power(array,2))"
   ]
  },
  {
   "cell_type": "code",
   "execution_count": null,
   "id": "2c3bc8d1",
   "metadata": {},
   "outputs": [],
   "source": []
  }
 ],
 "metadata": {
  "kernelspec": {
   "display_name": "Python 3",
   "language": "python",
   "name": "python3"
  },
  "language_info": {
   "codemirror_mode": {
    "name": "ipython",
    "version": 3
   },
   "file_extension": ".py",
   "mimetype": "text/x-python",
   "name": "python",
   "nbconvert_exporter": "python",
   "pygments_lexer": "ipython3",
   "version": "3.8.8"
  }
 },
 "nbformat": 4,
 "nbformat_minor": 5
}

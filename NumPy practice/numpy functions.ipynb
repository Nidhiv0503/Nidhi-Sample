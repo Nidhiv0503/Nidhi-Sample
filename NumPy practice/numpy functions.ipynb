{
 "cells": [
  {
   "cell_type": "code",
   "execution_count": 1,
   "id": "5515f304",
   "metadata": {},
   "outputs": [],
   "source": [
    "import numpy as np   "
   ]
  },
  {
   "cell_type": "markdown",
   "id": "dee00777",
   "metadata": {},
   "source": [
    "# Various attributes"
   ]
  },
  {
   "cell_type": "code",
   "execution_count": 2,
   "id": "746dd7c0",
   "metadata": {},
   "outputs": [
    {
     "name": "stdout",
     "output_type": "stream",
     "text": [
      "[[1 2 3]\n",
      " [4 5 6]\n",
      " [7 8 9]]\n"
     ]
    }
   ],
   "source": [
    "array = np.array([[1,2,3],[4,5,6],[7,8,9]])   \n",
    "print(array)"
   ]
  },
  {
   "cell_type": "code",
   "execution_count": 3,
   "id": "3beffa39",
   "metadata": {},
   "outputs": [
    {
     "name": "stdout",
     "output_type": "stream",
     "text": [
      "9\n"
     ]
    }
   ],
   "source": [
    "print(array.size)   # ndarray.size returns the number of items in the array"
   ]
  },
  {
   "cell_type": "code",
   "execution_count": 4,
   "id": "8caf84a6",
   "metadata": {},
   "outputs": [
    {
     "name": "stdout",
     "output_type": "stream",
     "text": [
      "(3, 3)\n"
     ]
    }
   ],
   "source": [
    "print(array.shape)   # ndarray.shape return a tuple consisting of array dimension"
   ]
  },
  {
   "cell_type": "code",
   "execution_count": 5,
   "id": "96bd9d2f",
   "metadata": {},
   "outputs": [
    {
     "name": "stdout",
     "output_type": "stream",
     "text": [
      "2\n"
     ]
    }
   ],
   "source": [
    "print(array.ndim)   #ndarray.ndim returns the number of array dimensions"
   ]
  },
  {
   "cell_type": "code",
   "execution_count": 6,
   "id": "99afcfc7",
   "metadata": {},
   "outputs": [
    {
     "name": "stdout",
     "output_type": "stream",
     "text": [
      "4\n"
     ]
    }
   ],
   "source": [
    "print(array.itemsize)  #ndarray.itemsize returns the memory size of each element in the array"
   ]
  },
  {
   "cell_type": "code",
   "execution_count": 8,
   "id": "e90dc260",
   "metadata": {},
   "outputs": [
    {
     "name": "stdout",
     "output_type": "stream",
     "text": [
      "[array([1, 2]), array([3, 4]), array([5, 6])]\n"
     ]
    }
   ],
   "source": [
    "  #split()  \n",
    "arr = np.array([1,2,3,4,5,6])\n",
    "newarr = np.array_split(arr,3)\n",
    "\n",
    "print(newarr)"
   ]
  },
  {
   "cell_type": "code",
   "execution_count": 9,
   "id": "51ddc7a2",
   "metadata": {},
   "outputs": [
    {
     "name": "stdout",
     "output_type": "stream",
     "text": [
      "[array([2, 4]), array([6, 8]), array([10])]\n"
     ]
    }
   ],
   "source": [
    "array = np.array([2,4,6,8,10])\n",
    "newarray = np.array_split(array,3)\n",
    "print(newarray)"
   ]
  },
  {
   "cell_type": "code",
   "execution_count": 11,
   "id": "f2a10b46",
   "metadata": {},
   "outputs": [
    {
     "name": "stdout",
     "output_type": "stream",
     "text": [
      "[1 2 3 4 5 6]\n"
     ]
    }
   ],
   "source": [
    "#join()concatenation of to strings in the sequence\n",
    "arr1 = np.array([1,2,3])\n",
    "arr2 = np.array([4,5,6])\n",
    "arr = np.concatenate((arr1,arr2))\n",
    "print(arr)"
   ]
  },
  {
   "cell_type": "code",
   "execution_count": 12,
   "id": "f27c5ce6",
   "metadata": {},
   "outputs": [
    {
     "name": "stdout",
     "output_type": "stream",
     "text": [
      "x: ['aAaAaA' ' aA ' 'abBABba']\n"
     ]
    }
   ],
   "source": [
    "#encode() call str encode element-wise\n",
    "x = np.array([\"aAaAaA\", \" aA \",'abBABba' ])\n",
    "print(\"x:\",x)"
   ]
  },
  {
   "cell_type": "code",
   "execution_count": 13,
   "id": "97771456",
   "metadata": {},
   "outputs": [
    {
     "data": {
      "text/plain": [
       "array([b'\\x81\\xc1\\x81\\xc1\\x81\\xc1', b'@\\x81\\xc1@',\n",
       "       b'\\x81\\x82\\xc2\\xc1\\xc2\\x82\\x81'], dtype='|S7')"
      ]
     },
     "execution_count": 13,
     "metadata": {},
     "output_type": "execute_result"
    }
   ],
   "source": [
    "e = np.char.encode(x,encoding=\" cp037\")\n",
    "e"
   ]
  },
  {
   "cell_type": "code",
   "execution_count": 14,
   "id": "818952cf",
   "metadata": {},
   "outputs": [
    {
     "data": {
      "text/plain": [
       "array(['aAaAaA', ' aA ', 'abBABba'], dtype='<U7')"
      ]
     },
     "execution_count": 14,
     "metadata": {},
     "output_type": "execute_result"
    }
   ],
   "source": [
    "d = np.char.decode(e,encoding='cp037')\n",
    "d"
   ]
  },
  {
   "cell_type": "code",
   "execution_count": 18,
   "id": "768142d8",
   "metadata": {},
   "outputs": [
    {
     "data": {
      "text/plain": [
       "array([5., 2., 0., 0., 4., 4.])"
      ]
     },
     "execution_count": 18,
     "metadata": {},
     "output_type": "execute_result"
    }
   ],
   "source": [
    "#numpy.around() value rounded to the desired precision\n",
    "np.around([5,1.5,.2,.5,3.5,4.5])\n"
   ]
  },
  {
   "cell_type": "code",
   "execution_count": 19,
   "id": "2a7e006a",
   "metadata": {},
   "outputs": [
    {
     "data": {
      "text/plain": [
       "array([-2., -2., -1.,  0.,  1.,  1.,  2.])"
      ]
     },
     "execution_count": 19,
     "metadata": {},
     "output_type": "execute_result"
    }
   ],
   "source": [
    "#numpy.floor()this function returns the largest integer not greater than the input parameter\n",
    "a = np.array([-1.7,-1.5,-0.2,0.2,1.5,1.7,2.0])\n",
    "np.floor(a)\n"
   ]
  },
  {
   "cell_type": "code",
   "execution_count": 20,
   "id": "99e5ca02",
   "metadata": {},
   "outputs": [
    {
     "data": {
      "text/plain": [
       "array([-1., -1., -0.,  1.,  2.,  2.,  2.])"
      ]
     },
     "execution_count": 20,
     "metadata": {},
     "output_type": "execute_result"
    }
   ],
   "source": [
    "#numpy.ceil()returns the ceiling of an input value\n",
    "a = np.array([-1.7,-1.5,-0.2,0.2,1.5,1.7,2.0])\n",
    "np.ceil(a)"
   ]
  },
  {
   "cell_type": "code",
   "execution_count": 21,
   "id": "22b56bc6",
   "metadata": {},
   "outputs": [
    {
     "data": {
      "text/plain": [
       "562949955342131.5"
      ]
     },
     "execution_count": 21,
     "metadata": {},
     "output_type": "execute_result"
    }
   ],
   "source": [
    "#numpy.round()round an array to the given number of decimal\n",
    "np.round(562949955342131.5,3)"
   ]
  },
  {
   "cell_type": "code",
   "execution_count": 22,
   "id": "2feb7dcb",
   "metadata": {},
   "outputs": [
    {
     "data": {
      "text/plain": [
       "array([-2., -2., -0.,  1.,  1.,  2.,  2.])"
      ]
     },
     "execution_count": 22,
     "metadata": {},
     "output_type": "execute_result"
    }
   ],
   "source": [
    "#numpy.rint()\n",
    "a = np.array([-1.7,-1.5,-0.5,1.2,1.4,1.7,2.0])\n",
    "np.rint(a)"
   ]
  },
  {
   "cell_type": "code",
   "execution_count": 23,
   "id": "04756311",
   "metadata": {},
   "outputs": [
    {
     "data": {
      "text/plain": [
       "array([ 2.,  2., -2., -2.])"
      ]
     },
     "execution_count": 23,
     "metadata": {},
     "output_type": "execute_result"
    }
   ],
   "source": [
    "#numpy.fix() round to nearest integer towards zero\n",
    "np.fix([2.1,2.9,-2.1,-2.9])\n"
   ]
  },
  {
   "cell_type": "code",
   "execution_count": 24,
   "id": "2491543b",
   "metadata": {},
   "outputs": [
    {
     "data": {
      "text/plain": [
       "array([-1., -1., -0.,  0.,  1.,  1.,  2.])"
      ]
     },
     "execution_count": 24,
     "metadata": {},
     "output_type": "execute_result"
    }
   ],
   "source": [
    "#nimpy.trunc()return the truncted value of the input,element-wise\n",
    "a = np.array([-1.7,-1.6,-0.3,0.2,1.5,1.3,2.0])\n",
    "np.trunc(a)"
   ]
  },
  {
   "cell_type": "code",
   "execution_count": 25,
   "id": "e2f76f08",
   "metadata": {},
   "outputs": [
    {
     "data": {
      "text/plain": [
       "array([0, 1, 2, 3, 4, 5])"
      ]
     },
     "execution_count": 25,
     "metadata": {},
     "output_type": "execute_result"
    }
   ],
   "source": [
    "#numpy.power()\n",
    "x1 = np.arange(6)\n",
    "x1"
   ]
  },
  {
   "cell_type": "code",
   "execution_count": 26,
   "id": "f8a71f8b",
   "metadata": {},
   "outputs": [
    {
     "data": {
      "text/plain": [
       "array([  0,   1,   8,  27,  64, 125], dtype=int32)"
      ]
     },
     "execution_count": 26,
     "metadata": {},
     "output_type": "execute_result"
    }
   ],
   "source": [
    "np.power(x1,3)"
   ]
  },
  {
   "cell_type": "code",
   "execution_count": 27,
   "id": "b9e5801a",
   "metadata": {},
   "outputs": [
    {
     "data": {
      "text/plain": [
       "array([0, 1], dtype=int32)"
      ]
     },
     "execution_count": 27,
     "metadata": {},
     "output_type": "execute_result"
    }
   ],
   "source": [
    "#numpy.mod()this function return the remainder of division of the corresponding elements in the input array\n",
    "np.remainder([4,7],[2,3])"
   ]
  },
  {
   "cell_type": "code",
   "execution_count": 28,
   "id": "5ef8ed34",
   "metadata": {},
   "outputs": [
    {
     "data": {
      "text/plain": [
       "array([1., 3., 5.])"
      ]
     },
     "execution_count": 28,
     "metadata": {},
     "output_type": "execute_result"
    }
   ],
   "source": [
    "#numpy.real()return the real part of the complex data type argument\n",
    "a = np.array([1+2j,3+4j,5+6j])\n",
    "a.real"
   ]
  },
  {
   "cell_type": "code",
   "execution_count": 29,
   "id": "aec9a2e0",
   "metadata": {},
   "outputs": [
    {
     "data": {
      "text/plain": [
       "(1-2j)"
      ]
     },
     "execution_count": 29,
     "metadata": {},
     "output_type": "execute_result"
    }
   ],
   "source": [
    "#np.conj()\n",
    "np.conjugate(1+2j)"
   ]
  },
  {
   "cell_type": "code",
   "execution_count": 30,
   "id": "d3f3b2a8",
   "metadata": {},
   "outputs": [
    {
     "data": {
      "text/plain": [
       "array([0.        , 1.57079633, 0.78539816])"
      ]
     },
     "execution_count": 30,
     "metadata": {},
     "output_type": "execute_result"
    }
   ],
   "source": [
    "#numpy.angle()\n",
    "np.angle([1.0,1.0j,1+1j])\n"
   ]
  },
  {
   "cell_type": "code",
   "execution_count": 31,
   "id": "92593daa",
   "metadata": {},
   "outputs": [
    {
     "data": {
      "text/plain": [
       "45.0"
      ]
     },
     "execution_count": 31,
     "metadata": {},
     "output_type": "execute_result"
    }
   ],
   "source": [
    "np.angle(1+1j,deg=True)"
   ]
  },
  {
   "cell_type": "code",
   "execution_count": 32,
   "id": "c10c0cc6",
   "metadata": {},
   "outputs": [
    {
     "data": {
      "text/plain": [
       "array([2., 4., 6.])"
      ]
     },
     "execution_count": 32,
     "metadata": {},
     "output_type": "execute_result"
    }
   ],
   "source": [
    "a = np.array([1+2j,3+4j,5+6j])\n",
    "a.imag"
   ]
  },
  {
   "cell_type": "code",
   "execution_count": 33,
   "id": "95da21ec",
   "metadata": {},
   "outputs": [
    {
     "data": {
      "text/plain": [
       "array([ 1., -1.])"
      ]
     },
     "execution_count": 33,
     "metadata": {},
     "output_type": "execute_result"
    }
   ],
   "source": [
    "#numpy.positive()numerical possitive ,element-wise\n",
    "x1 = np.array(([1.,-1.]))\n",
    "np.positive(x1)"
   ]
  },
  {
   "cell_type": "code",
   "execution_count": 34,
   "id": "c2cce5ab",
   "metadata": {},
   "outputs": [
    {
     "data": {
      "text/plain": [
       "array([0.  , 0.25, 0.5 , 0.75, 1.  ])"
      ]
     },
     "execution_count": 34,
     "metadata": {},
     "output_type": "execute_result"
    }
   ],
   "source": [
    "#numpy.true_divide()\n",
    "x= np.arange(5)\n",
    "np.true_divide(x,4)"
   ]
  },
  {
   "cell_type": "code",
   "execution_count": 35,
   "id": "1b59e20f",
   "metadata": {},
   "outputs": [
    {
     "data": {
      "text/plain": [
       "2"
      ]
     },
     "execution_count": 35,
     "metadata": {},
     "output_type": "execute_result"
    }
   ],
   "source": [
    "#numpy.floor_divide()\n",
    "np.floor_divide(7,3)"
   ]
  },
  {
   "cell_type": "code",
   "execution_count": 36,
   "id": "52528b10",
   "metadata": {},
   "outputs": [
    {
     "data": {
      "text/plain": [
       "array([0., 0., 1., 1.])"
      ]
     },
     "execution_count": 36,
     "metadata": {},
     "output_type": "execute_result"
    }
   ],
   "source": [
    "np.floor_divide([1.,2.,3.,4.],2.5)"
   ]
  },
  {
   "cell_type": "code",
   "execution_count": 37,
   "id": "15958555",
   "metadata": {},
   "outputs": [
    {
     "data": {
      "text/plain": [
       "array([ 1., -1.])"
      ]
     },
     "execution_count": 37,
     "metadata": {},
     "output_type": "execute_result"
    }
   ],
   "source": [
    "np.float_power(x1,3)"
   ]
  },
  {
   "cell_type": "code",
   "execution_count": 38,
   "id": "bc764b02",
   "metadata": {},
   "outputs": [
    {
     "data": {
      "text/plain": [
       "array([-1,  0,  0, -1,  0,  1], dtype=int32)"
      ]
     },
     "execution_count": 38,
     "metadata": {},
     "output_type": "execute_result"
    }
   ],
   "source": [
    "#numpy.fmod()return the element-wise remainder of division\n",
    "np.fmod([-3,-2,-2,-1,2,3],2)\n"
   ]
  },
  {
   "cell_type": "code",
   "execution_count": 40,
   "id": "71b52b1e",
   "metadata": {},
   "outputs": [
    {
     "data": {
      "text/plain": [
       "(array([0. , 0.5]), array([0., 3.]))"
      ]
     },
     "execution_count": 40,
     "metadata": {},
     "output_type": "execute_result"
    }
   ],
   "source": [
    "#numpy.modf()return the fractional and integral parts of an array,element-wise\n",
    "np.modf([0,3.5])"
   ]
  },
  {
   "cell_type": "code",
   "execution_count": 41,
   "id": "b15ed1c4",
   "metadata": {},
   "outputs": [
    {
     "data": {
      "text/plain": [
       "(-0.5, -0.0)"
      ]
     },
     "execution_count": 41,
     "metadata": {},
     "output_type": "execute_result"
    }
   ],
   "source": [
    "np.modf(-0.5)"
   ]
  },
  {
   "cell_type": "code",
   "execution_count": 42,
   "id": "ab15b359",
   "metadata": {},
   "outputs": [
    {
     "data": {
      "text/plain": [
       "(array([0, 0, 0, 1, 1], dtype=int32), array([0, 1, 2, 0, 1], dtype=int32))"
      ]
     },
     "execution_count": 42,
     "metadata": {},
     "output_type": "execute_result"
    }
   ],
   "source": [
    "#numpy.divmod()\n",
    "np.divmod(np.arange(5),3)"
   ]
  },
  {
   "cell_type": "markdown",
   "id": "04dbd6a4",
   "metadata": {},
   "source": [
    "statistical finction"
   ]
  },
  {
   "cell_type": "code",
   "execution_count": 43,
   "id": "1e72255b",
   "metadata": {},
   "outputs": [
    {
     "data": {
      "text/plain": [
       "array([[0, 1],\n",
       "       [2, 3]])"
      ]
     },
     "execution_count": 43,
     "metadata": {},
     "output_type": "execute_result"
    }
   ],
   "source": [
    "#numpy.amin()\n",
    "a = np.arange(4).reshape((2,2))\n",
    "a"
   ]
  },
  {
   "cell_type": "code",
   "execution_count": 44,
   "id": "db9b4bdd",
   "metadata": {},
   "outputs": [
    {
     "data": {
      "text/plain": [
       "0"
      ]
     },
     "execution_count": 44,
     "metadata": {},
     "output_type": "execute_result"
    }
   ],
   "source": [
    "np.amin(a)"
   ]
  },
  {
   "cell_type": "code",
   "execution_count": 45,
   "id": "395bfcb2",
   "metadata": {},
   "outputs": [
    {
     "data": {
      "text/plain": [
       "array([0, 1])"
      ]
     },
     "execution_count": 45,
     "metadata": {},
     "output_type": "execute_result"
    }
   ],
   "source": [
    "np.amin(a,axis=0)"
   ]
  },
  {
   "cell_type": "code",
   "execution_count": 47,
   "id": "f1ad6bce",
   "metadata": {},
   "outputs": [],
   "source": [
    "#numpy.ptp()function returns the range(max-min)\n",
    "x = np.array([[4,9,2,10],\n",
    "            [6,9,7,12]])"
   ]
  },
  {
   "cell_type": "code",
   "execution_count": 48,
   "id": "aac1e3b6",
   "metadata": {},
   "outputs": [
    {
     "data": {
      "text/plain": [
       "array([8, 6])"
      ]
     },
     "execution_count": 48,
     "metadata": {},
     "output_type": "execute_result"
    }
   ],
   "source": [
    "np.ptp(x,axis=1)"
   ]
  },
  {
   "cell_type": "code",
   "execution_count": 49,
   "id": "80ed5465",
   "metadata": {},
   "outputs": [
    {
     "data": {
      "text/plain": [
       "array([[10,  7,  4],\n",
       "       [ 3,  2,  1]])"
      ]
     },
     "execution_count": 49,
     "metadata": {},
     "output_type": "execute_result"
    }
   ],
   "source": [
    "#numpy.percentile()use to measure the statistical indication \n",
    "a = np.array([[10,7,4],[3,2,1]])\n",
    "a"
   ]
  },
  {
   "cell_type": "code",
   "execution_count": 50,
   "id": "99c4d339",
   "metadata": {},
   "outputs": [
    {
     "data": {
      "text/plain": [
       "3.5"
      ]
     },
     "execution_count": 50,
     "metadata": {},
     "output_type": "execute_result"
    }
   ],
   "source": [
    "np.percentile(a,50)"
   ]
  },
  {
   "cell_type": "code",
   "execution_count": 51,
   "id": "42854ab1",
   "metadata": {},
   "outputs": [
    {
     "data": {
      "text/plain": [
       "array([[20,  9,  6],\n",
       "       [ 3,  4,  5]])"
      ]
     },
     "execution_count": 51,
     "metadata": {},
     "output_type": "execute_result"
    }
   ],
   "source": [
    "#numpy.median()separating the hogher half of a data sample from the lower half\n",
    "a = np.array([[20,9,6],[3,4,5]])\n",
    "a"
   ]
  },
  {
   "cell_type": "code",
   "execution_count": 52,
   "id": "53b890a5",
   "metadata": {},
   "outputs": [
    {
     "data": {
      "text/plain": [
       "array([11.5,  6.5,  5.5])"
      ]
     },
     "execution_count": 52,
     "metadata": {},
     "output_type": "execute_result"
    }
   ],
   "source": [
    "np.median(a,axis=0)"
   ]
  },
  {
   "cell_type": "code",
   "execution_count": 53,
   "id": "6ae65cc4",
   "metadata": {},
   "outputs": [
    {
     "data": {
      "text/plain": [
       "2.5"
      ]
     },
     "execution_count": 53,
     "metadata": {},
     "output_type": "execute_result"
    }
   ],
   "source": [
    "#numpy.mean()function return the arithmetic mean of element\n",
    "a = np.array([[1,2],[3,4]])\n",
    "np.mean(a)"
   ]
  },
  {
   "cell_type": "code",
   "execution_count": 54,
   "id": "30632db0",
   "metadata": {},
   "outputs": [
    {
     "data": {
      "text/plain": [
       "array([1, 2, 3, 4])"
      ]
     },
     "execution_count": 54,
     "metadata": {},
     "output_type": "execute_result"
    }
   ],
   "source": [
    "#numpy.average()\n",
    "data= np.arange(1,5)\n",
    "data\n"
   ]
  },
  {
   "cell_type": "code",
   "execution_count": 55,
   "id": "a9b0c790",
   "metadata": {},
   "outputs": [
    {
     "data": {
      "text/plain": [
       "2.5"
      ]
     },
     "execution_count": 55,
     "metadata": {},
     "output_type": "execute_result"
    }
   ],
   "source": [
    "np.average(data)"
   ]
  },
  {
   "cell_type": "code",
   "execution_count": 57,
   "id": "f11da2f6",
   "metadata": {},
   "outputs": [
    {
     "data": {
      "text/plain": [
       "4.0"
      ]
     },
     "execution_count": 57,
     "metadata": {},
     "output_type": "execute_result"
    }
   ],
   "source": [
    "np.average(np.arange(1,11), weights = np.arange(10,0,-1))"
   ]
  },
  {
   "cell_type": "code",
   "execution_count": 61,
   "id": "dd475e61",
   "metadata": {},
   "outputs": [
    {
     "data": {
      "text/plain": [
       "array([[1, 4],\n",
       "       [1, 3]])"
      ]
     },
     "execution_count": 61,
     "metadata": {},
     "output_type": "execute_result"
    }
   ],
   "source": [
    "#np.sort( function returns a sorted copy of the input array)\n",
    "a = np.array([[1,4],[3,1]])  #sort along last axis\n",
    "np.sort(a)"
   ]
  },
  {
   "cell_type": "code",
   "execution_count": 62,
   "id": "614235d3",
   "metadata": {},
   "outputs": [
    {
     "data": {
      "text/plain": [
       "array([[1, 1],\n",
       "       [3, 4]])"
      ]
     },
     "execution_count": 62,
     "metadata": {},
     "output_type": "execute_result"
    }
   ],
   "source": [
    "np.sort(a,axis=0)   #sort along first axis"
   ]
  },
  {
   "cell_type": "code",
   "execution_count": 64,
   "id": "d174d542",
   "metadata": {},
   "outputs": [
    {
     "data": {
      "text/plain": [
       "array([1, 1, 3, 4])"
      ]
     },
     "execution_count": 64,
     "metadata": {},
     "output_type": "execute_result"
    }
   ],
   "source": [
    "np.sort(a,axis=None)   #sort flattened array\n"
   ]
  },
  {
   "cell_type": "code",
   "execution_count": 65,
   "id": "ffb33ef2",
   "metadata": {},
   "outputs": [
    {
     "name": "stdout",
     "output_type": "stream",
     "text": [
      "[[-0.24483577 -0.46904396 -1.08863684]\n",
      " [ 0.56977822 -0.01401374 -0.55651819]]\n"
     ]
    }
   ],
   "source": [
    "#numpy.where()input array where the given condition is satisfied\n",
    "a = np.random.randn(2,3)\n",
    "print(a)"
   ]
  },
  {
   "cell_type": "code",
   "execution_count": 66,
   "id": "36b07ea4",
   "metadata": {},
   "outputs": [
    {
     "data": {
      "text/plain": [
       "array([[0.        , 0.        , 0.        ],\n",
       "       [0.56977822, 0.        , 0.        ]])"
      ]
     },
     "execution_count": 66,
     "metadata": {},
     "output_type": "execute_result"
    }
   ],
   "source": [
    "b = np.where(a>0,a,0)\n",
    "b"
   ]
  },
  {
   "cell_type": "code",
   "execution_count": 67,
   "id": "a8da1f4f",
   "metadata": {},
   "outputs": [
    {
     "data": {
      "text/plain": [
       "array([False, False,  True, False, False,  True])"
      ]
     },
     "execution_count": 67,
     "metadata": {},
     "output_type": "execute_result"
    }
   ],
   "source": [
    "cond= np.mod(arr,3)==0\n",
    "cond"
   ]
  },
  {
   "cell_type": "code",
   "execution_count": 69,
   "id": "9be2d0ac",
   "metadata": {},
   "outputs": [
    {
     "data": {
      "text/plain": [
       "array([3, 6])"
      ]
     },
     "execution_count": 69,
     "metadata": {},
     "output_type": "execute_result"
    }
   ],
   "source": [
    "np.extract(cond,arr)"
   ]
  },
  {
   "cell_type": "code",
   "execution_count": 70,
   "id": "f23163c3",
   "metadata": {},
   "outputs": [
    {
     "data": {
      "text/plain": [
       "6"
      ]
     },
     "execution_count": 70,
     "metadata": {},
     "output_type": "execute_result"
    }
   ],
   "source": [
    "#numpy.sum()\n",
    "np.sum([[0,1],[0,5]])"
   ]
  },
  {
   "cell_type": "code",
   "execution_count": 71,
   "id": "51e8e81e",
   "metadata": {},
   "outputs": [
    {
     "data": {
      "text/plain": [
       "array([0, 6])"
      ]
     },
     "execution_count": 71,
     "metadata": {},
     "output_type": "execute_result"
    }
   ],
   "source": [
    "np.sum([[0,1],[0,5]],axis=0)"
   ]
  },
  {
   "cell_type": "code",
   "execution_count": 72,
   "id": "488e2efc",
   "metadata": {},
   "outputs": [
    {
     "data": {
      "text/plain": [
       "array([ 1,  2,  3, -7])"
      ]
     },
     "execution_count": 72,
     "metadata": {},
     "output_type": "execute_result"
    }
   ],
   "source": [
    "#numpy.diff()\n",
    "x=np.array([1,2,4,7,0])\n",
    "np.diff(x)"
   ]
  },
  {
   "cell_type": "code",
   "execution_count": 73,
   "id": "a0eb7443",
   "metadata": {},
   "outputs": [
    {
     "data": {
      "text/plain": [
       "array([ 1,  2,  3, -7])"
      ]
     },
     "execution_count": 73,
     "metadata": {},
     "output_type": "execute_result"
    }
   ],
   "source": [
    "#numpy.ediff1d() differences between consecutive element of an array\n",
    "x=np.array([1,2,4,7,0])\n",
    "np.ediff1d(x)"
   ]
  },
  {
   "cell_type": "code",
   "execution_count": 74,
   "id": "fff4a3e2",
   "metadata": {},
   "outputs": [
    {
     "data": {
      "text/plain": [
       "array([ 1,  2, -3,  5, 18])"
      ]
     },
     "execution_count": 74,
     "metadata": {},
     "output_type": "execute_result"
    }
   ],
   "source": [
    "y = [[1,2,4],[1,6,24]]\n",
    "np.ediff1d(y)"
   ]
  },
  {
   "cell_type": "code",
   "execution_count": 75,
   "id": "10449759",
   "metadata": {},
   "outputs": [
    {
     "data": {
      "text/plain": [
       "array([-4,  8, -4])"
      ]
     },
     "execution_count": 75,
     "metadata": {},
     "output_type": "execute_result"
    }
   ],
   "source": [
    "#return the cross product of two array\n",
    "x=[1,2,3]\n",
    "y=[5,6,7]\n",
    "np.cross(x,y)"
   ]
  },
  {
   "cell_type": "code",
   "execution_count": 76,
   "id": "6ab13519",
   "metadata": {},
   "outputs": [
    {
     "data": {
      "text/plain": [
       "array([1. , 1.5, 2.5, 3.5, 4.5, 5. ])"
      ]
     },
     "execution_count": 76,
     "metadata": {},
     "output_type": "execute_result"
    }
   ],
   "source": [
    "#numpy.gradient()return the gradient of an N-dimensional array\n",
    "f =np.array([1,2,4,7,11,16],dtype=float)\n",
    "np.gradient(f)"
   ]
  },
  {
   "cell_type": "code",
   "execution_count": 77,
   "id": "462b7dfa",
   "metadata": {},
   "outputs": [
    {
     "data": {
      "text/plain": [
       "array([0.5 , 0.75, 1.25, 1.75, 2.25, 2.5 ])"
      ]
     },
     "execution_count": 77,
     "metadata": {},
     "output_type": "execute_result"
    }
   ],
   "source": [
    "np.gradient(f,2)"
   ]
  },
  {
   "cell_type": "code",
   "execution_count": null,
   "id": "cbe03ef7",
   "metadata": {},
   "outputs": [],
   "source": []
  }
 ],
 "metadata": {
  "kernelspec": {
   "display_name": "Python 3",
   "language": "python",
   "name": "python3"
  },
  "language_info": {
   "codemirror_mode": {
    "name": "ipython",
    "version": 3
   },
   "file_extension": ".py",
   "mimetype": "text/x-python",
   "name": "python",
   "nbconvert_exporter": "python",
   "pygments_lexer": "ipython3",
   "version": "3.8.8"
  }
 },
 "nbformat": 4,
 "nbformat_minor": 5
}

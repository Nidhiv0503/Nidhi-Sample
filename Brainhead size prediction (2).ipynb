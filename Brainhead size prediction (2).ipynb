{
 "cells": [
  {
   "cell_type": "code",
   "execution_count": 77,
   "id": "bf604c1d",
   "metadata": {},
   "outputs": [],
   "source": [
    "import numpy as np\n",
    "import pandas as pd\n",
    "import seaborn as sns                            #importing the laibrary\n",
    "import matplotlib.pyplot as plt\n",
    "import joblib\n",
    "import warnings\n",
    "warnings.filterwarnings('ignore')"
   ]
  },
  {
   "cell_type": "code",
   "execution_count": 78,
   "id": "2268c4e4",
   "metadata": {},
   "outputs": [
    {
     "data": {
      "text/html": [
       "<div>\n",
       "<style scoped>\n",
       "    .dataframe tbody tr th:only-of-type {\n",
       "        vertical-align: middle;\n",
       "    }\n",
       "\n",
       "    .dataframe tbody tr th {\n",
       "        vertical-align: top;\n",
       "    }\n",
       "\n",
       "    .dataframe thead th {\n",
       "        text-align: right;\n",
       "    }\n",
       "</style>\n",
       "<table border=\"1\" class=\"dataframe\">\n",
       "  <thead>\n",
       "    <tr style=\"text-align: right;\">\n",
       "      <th></th>\n",
       "      <th>Gender</th>\n",
       "      <th>Age Range</th>\n",
       "      <th>Head Size(cm^3)</th>\n",
       "      <th>Brain Weight(grams)</th>\n",
       "    </tr>\n",
       "  </thead>\n",
       "  <tbody>\n",
       "    <tr>\n",
       "      <th>0</th>\n",
       "      <td>1</td>\n",
       "      <td>1</td>\n",
       "      <td>4512</td>\n",
       "      <td>1530</td>\n",
       "    </tr>\n",
       "    <tr>\n",
       "      <th>1</th>\n",
       "      <td>1</td>\n",
       "      <td>1</td>\n",
       "      <td>3738</td>\n",
       "      <td>1297</td>\n",
       "    </tr>\n",
       "    <tr>\n",
       "      <th>2</th>\n",
       "      <td>1</td>\n",
       "      <td>1</td>\n",
       "      <td>4261</td>\n",
       "      <td>1335</td>\n",
       "    </tr>\n",
       "    <tr>\n",
       "      <th>3</th>\n",
       "      <td>1</td>\n",
       "      <td>1</td>\n",
       "      <td>3777</td>\n",
       "      <td>1282</td>\n",
       "    </tr>\n",
       "    <tr>\n",
       "      <th>4</th>\n",
       "      <td>1</td>\n",
       "      <td>1</td>\n",
       "      <td>4177</td>\n",
       "      <td>1590</td>\n",
       "    </tr>\n",
       "  </tbody>\n",
       "</table>\n",
       "</div>"
      ],
      "text/plain": [
       "   Gender  Age Range  Head Size(cm^3)  Brain Weight(grams)\n",
       "0       1          1             4512                 1530\n",
       "1       1          1             3738                 1297\n",
       "2       1          1             4261                 1335\n",
       "3       1          1             3777                 1282\n",
       "4       1          1             4177                 1590"
      ]
     },
     "execution_count": 78,
     "metadata": {},
     "output_type": "execute_result"
    }
   ],
   "source": [
    "ds=pd.read_csv('Brainhead.csv')   # loading the dataset\n",
    "ds.head()"
   ]
  },
  {
   "cell_type": "code",
   "execution_count": 79,
   "id": "9d5aaed9",
   "metadata": {},
   "outputs": [
    {
     "data": {
      "text/plain": [
       "Index(['Gender', 'Age Range', 'Head Size(cm^3)', 'Brain Weight(grams)'], dtype='object')"
      ]
     },
     "execution_count": 79,
     "metadata": {},
     "output_type": "execute_result"
    }
   ],
   "source": [
    "ds.columns"
   ]
  },
  {
   "cell_type": "code",
   "execution_count": 80,
   "id": "a7fa98a2",
   "metadata": {},
   "outputs": [
    {
     "data": {
      "text/plain": [
       "(237, 4)"
      ]
     },
     "execution_count": 80,
     "metadata": {},
     "output_type": "execute_result"
    }
   ],
   "source": [
    "ds.shape   # showing the rows and columns"
   ]
  },
  {
   "cell_type": "code",
   "execution_count": 81,
   "id": "d2ff2230",
   "metadata": {},
   "outputs": [
    {
     "data": {
      "text/plain": [
       "Gender                 int64\n",
       "Age Range              int64\n",
       "Head Size(cm^3)        int64\n",
       "Brain Weight(grams)    int64\n",
       "dtype: object"
      ]
     },
     "execution_count": 81,
     "metadata": {},
     "output_type": "execute_result"
    }
   ],
   "source": [
    "ds.dtypes"
   ]
  },
  {
   "cell_type": "code",
   "execution_count": 82,
   "id": "ce8d2d16",
   "metadata": {},
   "outputs": [
    {
     "name": "stdout",
     "output_type": "stream",
     "text": [
      "<class 'pandas.core.frame.DataFrame'>\n",
      "RangeIndex: 237 entries, 0 to 236\n",
      "Data columns (total 4 columns):\n",
      " #   Column               Non-Null Count  Dtype\n",
      "---  ------               --------------  -----\n",
      " 0   Gender               237 non-null    int64\n",
      " 1   Age Range            237 non-null    int64\n",
      " 2   Head Size(cm^3)      237 non-null    int64\n",
      " 3   Brain Weight(grams)  237 non-null    int64\n",
      "dtypes: int64(4)\n",
      "memory usage: 7.5 KB\n"
     ]
    }
   ],
   "source": [
    "ds.info()"
   ]
  },
  {
   "cell_type": "code",
   "execution_count": 83,
   "id": "3c46138e",
   "metadata": {},
   "outputs": [
    {
     "data": {
      "text/plain": [
       "Gender                 0\n",
       "Age Range              0\n",
       "Head Size(cm^3)        0\n",
       "Brain Weight(grams)    0\n",
       "dtype: int64"
      ]
     },
     "execution_count": 83,
     "metadata": {},
     "output_type": "execute_result"
    }
   ],
   "source": [
    "ds.isnull().sum()    # finding the missing values"
   ]
  },
  {
   "cell_type": "markdown",
   "id": "13b23a2b",
   "metadata": {},
   "source": [
    "there is no missing values"
   ]
  },
  {
   "cell_type": "code",
   "execution_count": 84,
   "id": "c8aceef4",
   "metadata": {},
   "outputs": [
    {
     "data": {
      "text/plain": [
       "<AxesSubplot:>"
      ]
     },
     "execution_count": 84,
     "metadata": {},
     "output_type": "execute_result"
    },
    {
     "data": {
      "image/png": "[encoded data removed]",
      "text/plain": [
       "<Figure size 432x288 with 2 Axes>"
      ]
     },
     "metadata": {
      "needs_background": "light"
     },
     "output_type": "display_data"
    }
   ],
   "source": [
    "sns.heatmap(ds.isnull())    #finding the missing value with heat map"
   ]
  },
  {
   "cell_type": "code",
   "execution_count": 85,
   "id": "1dbfbffa",
   "metadata": {},
   "outputs": [
    {
     "data": {
      "text/html": [
       "<div>\n",
       "<style scoped>\n",
       "    .dataframe tbody tr th:only-of-type {\n",
       "        vertical-align: middle;\n",
       "    }\n",
       "\n",
       "    .dataframe tbody tr th {\n",
       "        vertical-align: top;\n",
       "    }\n",
       "\n",
       "    .dataframe thead th {\n",
       "        text-align: right;\n",
       "    }\n",
       "</style>\n",
       "<table border=\"1\" class=\"dataframe\">\n",
       "  <thead>\n",
       "    <tr style=\"text-align: right;\">\n",
       "      <th></th>\n",
       "      <th>Gender</th>\n",
       "      <th>Age Range</th>\n",
       "      <th>Head Size(cm^3)</th>\n",
       "      <th>Brain Weight(grams)</th>\n",
       "    </tr>\n",
       "  </thead>\n",
       "  <tbody>\n",
       "    <tr>\n",
       "      <th>count</th>\n",
       "      <td>237.000000</td>\n",
       "      <td>237.000000</td>\n",
       "      <td>237.000000</td>\n",
       "      <td>237.000000</td>\n",
       "    </tr>\n",
       "    <tr>\n",
       "      <th>mean</th>\n",
       "      <td>1.434599</td>\n",
       "      <td>1.535865</td>\n",
       "      <td>3633.991561</td>\n",
       "      <td>1282.873418</td>\n",
       "    </tr>\n",
       "    <tr>\n",
       "      <th>std</th>\n",
       "      <td>0.496753</td>\n",
       "      <td>0.499768</td>\n",
       "      <td>365.261422</td>\n",
       "      <td>120.340446</td>\n",
       "    </tr>\n",
       "    <tr>\n",
       "      <th>min</th>\n",
       "      <td>1.000000</td>\n",
       "      <td>1.000000</td>\n",
       "      <td>2720.000000</td>\n",
       "      <td>955.000000</td>\n",
       "    </tr>\n",
       "    <tr>\n",
       "      <th>25%</th>\n",
       "      <td>1.000000</td>\n",
       "      <td>1.000000</td>\n",
       "      <td>3389.000000</td>\n",
       "      <td>1207.000000</td>\n",
       "    </tr>\n",
       "    <tr>\n",
       "      <th>50%</th>\n",
       "      <td>1.000000</td>\n",
       "      <td>2.000000</td>\n",
       "      <td>3614.000000</td>\n",
       "      <td>1280.000000</td>\n",
       "    </tr>\n",
       "    <tr>\n",
       "      <th>75%</th>\n",
       "      <td>2.000000</td>\n",
       "      <td>2.000000</td>\n",
       "      <td>3876.000000</td>\n",
       "      <td>1350.000000</td>\n",
       "    </tr>\n",
       "    <tr>\n",
       "      <th>max</th>\n",
       "      <td>2.000000</td>\n",
       "      <td>2.000000</td>\n",
       "      <td>4747.000000</td>\n",
       "      <td>1635.000000</td>\n",
       "    </tr>\n",
       "  </tbody>\n",
       "</table>\n",
       "</div>"
      ],
      "text/plain": [
       "           Gender   Age Range  Head Size(cm^3)  Brain Weight(grams)\n",
       "count  237.000000  237.000000       237.000000           237.000000\n",
       "mean     1.434599    1.535865      3633.991561          1282.873418\n",
       "std      0.496753    0.499768       365.261422           120.340446\n",
       "min      1.000000    1.000000      2720.000000           955.000000\n",
       "25%      1.000000    1.000000      3389.000000          1207.000000\n",
       "50%      1.000000    2.000000      3614.000000          1280.000000\n",
       "75%      2.000000    2.000000      3876.000000          1350.000000\n",
       "max      2.000000    2.000000      4747.000000          1635.000000"
      ]
     },
     "execution_count": 85,
     "metadata": {},
     "output_type": "execute_result"
    }
   ],
   "source": [
    "ds.describe()"
   ]
  },
  {
   "cell_type": "code",
   "execution_count": 86,
   "id": "b5e2c35d",
   "metadata": {},
   "outputs": [
    {
     "data": {
      "text/plain": [
       "<AxesSubplot:>"
      ]
     },
     "execution_count": 86,
     "metadata": {},
     "output_type": "execute_result"
    },
    {
     "data": {
      "image/png": "[encoded data removed]",
      "text/plain": [
       "<Figure size 720x360 with 2 Axes>"
      ]
     },
     "metadata": {
      "needs_background": "light"
     },
     "output_type": "display_data"
    }
   ],
   "source": [
    "fig=plt.figure(figsize=(10,5))\n",
    "hc=ds.corr(method='pearson')\n",
    "sns.heatmap(hc,annot=True,cmap=\"Blues\")"
   ]
  },
  {
   "cell_type": "code",
   "execution_count": 87,
   "id": "ee4704ba",
   "metadata": {},
   "outputs": [
    {
     "data": {
      "image/png": "[encoded data removed]",
      "text/plain": [
       "<Figure size 432x288 with 1 Axes>"
      ]
     },
     "metadata": {
      "needs_background": "light"
     },
     "output_type": "display_data"
    }
   ],
   "source": [
    "sns.countplot(x=\"Gender\",data=ds)\n",
    "plt.show()"
   ]
  },
  {
   "cell_type": "code",
   "execution_count": 88,
   "id": "ded654b1",
   "metadata": {},
   "outputs": [
    {
     "data": {
      "text/plain": [
       "<seaborn.axisgrid.PairGrid at 0x194d378dd30>"
      ]
     },
     "execution_count": 88,
     "metadata": {},
     "output_type": "execute_result"
    },
    {
     "data": {
      "image/png": "[encoded data removed]",
      "text/plain": [
       "<Figure size 720x720 with 20 Axes>"
      ]
     },
     "metadata": {
      "needs_background": "light"
     },
     "output_type": "display_data"
    }
   ],
   "source": [
    "sns.pairplot(ds)"
   ]
  },
  {
   "cell_type": "code",
   "execution_count": 89,
   "id": "4554ec02",
   "metadata": {},
   "outputs": [
    {
     "data": {
      "text/plain": [
       "Gender                 0.265554\n",
       "Age Range             -0.144748\n",
       "Head Size(cm^3)        0.238807\n",
       "Brain Weight(grams)    0.265478\n",
       "dtype: float64"
      ]
     },
     "execution_count": 89,
     "metadata": {},
     "output_type": "execute_result"
    }
   ],
   "source": [
    "ds.skew()       #finding the skewness"
   ]
  },
  {
   "cell_type": "code",
   "execution_count": 90,
   "id": "ee8f249b",
   "metadata": {},
   "outputs": [
    {
     "data": {
      "text/plain": [
       "<AxesSubplot:xlabel='Gender', ylabel='Count'>"
      ]
     },
     "execution_count": 90,
     "metadata": {},
     "output_type": "execute_result"
    },
    {
     "data": {
      "image/png": "[encoded data removed]",
      "text/plain": [
       "<Figure size 432x288 with 1 Axes>"
      ]
     },
     "metadata": {
      "needs_background": "light"
     },
     "output_type": "display_data"
    }
   ],
   "source": [
    "sns.histplot(ds['Gender'])"
   ]
  },
  {
   "cell_type": "code",
   "execution_count": 91,
   "id": "2e6fb36d",
   "metadata": {},
   "outputs": [
    {
     "data": {
      "text/plain": [
       "<AxesSubplot:xlabel='Age Range', ylabel='Count'>"
      ]
     },
     "execution_count": 91,
     "metadata": {},
     "output_type": "execute_result"
    },
    {
     "data": {
      "image/png": "[encoded data removed]",
      "text/plain": [
       "<Figure size 432x288 with 1 Axes>"
      ]
     },
     "metadata": {
      "needs_background": "light"
     },
     "output_type": "display_data"
    }
   ],
   "source": [
    "sns.histplot(ds['Age Range'])"
   ]
  },
  {
   "cell_type": "code",
   "execution_count": 92,
   "id": "4f99afd0",
   "metadata": {},
   "outputs": [
    {
     "data": {
      "text/plain": [
       "<AxesSubplot:xlabel='Head Size(cm^3)', ylabel='Count'>"
      ]
     },
     "execution_count": 92,
     "metadata": {},
     "output_type": "execute_result"
    },
    {
     "data": {
      "image/png": "[encoded data removed]",
      "text/plain": [
       "<Figure size 432x288 with 1 Axes>"
      ]
     },
     "metadata": {
      "needs_background": "light"
     },
     "output_type": "display_data"
    }
   ],
   "source": [
    "sns.histplot(ds['Head Size(cm^3)'])"
   ]
  },
  {
   "cell_type": "code",
   "execution_count": 93,
   "id": "5fc8f30c",
   "metadata": {},
   "outputs": [
    {
     "data": {
      "text/plain": [
       "<AxesSubplot:xlabel='Brain Weight(grams)', ylabel='Count'>"
      ]
     },
     "execution_count": 93,
     "metadata": {},
     "output_type": "execute_result"
    },
    {
     "data": {
      "image/png": "[encoded data removed]",
      "text/plain": [
       "<Figure size 432x288 with 1 Axes>"
      ]
     },
     "metadata": {
      "needs_background": "light"
     },
     "output_type": "display_data"
    }
   ],
   "source": [
    "sns.histplot(ds['Brain Weight(grams)'])"
   ]
  },
  {
   "cell_type": "code",
   "execution_count": 94,
   "id": "c976925c",
   "metadata": {},
   "outputs": [
    {
     "data": {
      "image/png": "[encoded data removed]",
      "text/plain": [
       "<Figure size 432x288 with 1 Axes>"
      ]
     },
     "metadata": {
      "needs_background": "light"
     },
     "output_type": "display_data"
    },
    {
     "data": {
      "image/png": "[encoded data removed]",
      "text/plain": [
       "<Figure size 432x288 with 1 Axes>"
      ]
     },
     "metadata": {
      "needs_background": "light"
     },
     "output_type": "display_data"
    },
    {
     "data": {
      "image/png": "[encoded data removed]",
      "text/plain": [
       "<Figure size 432x288 with 1 Axes>"
      ]
     },
     "metadata": {
      "needs_background": "light"
     },
     "output_type": "display_data"
    },
    {
     "data": {
      "image/png": "[encoded data removed]",
      "text/plain": [
       "<Figure size 432x288 with 1 Axes>"
      ]
     },
     "metadata": {
      "needs_background": "light"
     },
     "output_type": "display_data"
    }
   ],
   "source": [
    "columns=['Gender','Age Range','Head Size(cm^3)','Brain Weight(grams)']\n",
    "for i in ds[columns]:\n",
    "    plt.figure()\n",
    "    sns.distplot(ds[i])"
   ]
  },
  {
   "cell_type": "code",
   "execution_count": 95,
   "id": "c385c572",
   "metadata": {},
   "outputs": [
    {
     "data": {
      "text/plain": [
       "Gender                    AxesSubplot(0.125,0.125;0.168478x0.755)\n",
       "Age Range              AxesSubplot(0.327174,0.125;0.168478x0.755)\n",
       "Head Size(cm^3)        AxesSubplot(0.529348,0.125;0.168478x0.755)\n",
       "Brain Weight(grams)    AxesSubplot(0.731522,0.125;0.168478x0.755)\n",
       "dtype: object"
      ]
     },
     "execution_count": 95,
     "metadata": {},
     "output_type": "execute_result"
    },
    {
     "data": {
      "image/png": "[encoded data removed]",
      "text/plain": [
       "<Figure size 432x288 with 4 Axes>"
      ]
     },
     "metadata": {
      "needs_background": "light"
     },
     "output_type": "display_data"
    }
   ],
   "source": [
    "ds.plot(kind='box',subplots=True,layout=(1,4))"
   ]
  },
  {
   "cell_type": "code",
   "execution_count": 96,
   "id": "dadd0a1a",
   "metadata": {},
   "outputs": [
    {
     "name": "stdout",
     "output_type": "stream",
     "text": [
      "(array([24], dtype=int64), array([2], dtype=int64))\n"
     ]
    }
   ],
   "source": [
    "from scipy.stats import zscore\n",
    "zscr=np.abs(zscore(ds))\n",
    "threshold=3\n",
    "print(np.where(zscr>3))"
   ]
  },
  {
   "cell_type": "code",
   "execution_count": 97,
   "id": "f383e9f1",
   "metadata": {},
   "outputs": [
    {
     "data": {
      "text/plain": [
       "1.8497246750123209"
      ]
     },
     "execution_count": 97,
     "metadata": {},
     "output_type": "execute_result"
    }
   ],
   "source": [
    "zscr[25][3]"
   ]
  },
  {
   "cell_type": "code",
   "execution_count": 98,
   "id": "ee242133",
   "metadata": {},
   "outputs": [
    {
     "data": {
      "text/plain": [
       "1.1440874171156548"
      ]
     },
     "execution_count": 98,
     "metadata": {},
     "output_type": "execute_result"
    }
   ],
   "source": [
    "zscr[124][2]\n"
   ]
  },
  {
   "cell_type": "code",
   "execution_count": 99,
   "id": "fd3c3548",
   "metadata": {},
   "outputs": [
    {
     "name": "stdout",
     "output_type": "stream",
     "text": [
      "shape before removing the outlier: (237, 4)\n",
      "shape after removing the outlier; (236, 4)\n"
     ]
    }
   ],
   "source": [
    "print(\"shape before removing the outlier:\",ds.shape)\n",
    "dsnew=ds[(zscr<3).all(axis=1)]\n",
    "print(\"shape after removing the outlier;\",dsnew.shape)"
   ]
  },
  {
   "cell_type": "code",
   "execution_count": 100,
   "id": "15c0914c",
   "metadata": {},
   "outputs": [],
   "source": [
    "ds=dsnew"
   ]
  },
  {
   "cell_type": "code",
   "execution_count": 101,
   "id": "b675d834",
   "metadata": {},
   "outputs": [],
   "source": [
    "ds_x=ds.drop(columns=[\"Brain Weight(grams)\"])\n",
    "y=ds[[\"Brain Weight(grams)\"]]"
   ]
  },
  {
   "cell_type": "code",
   "execution_count": 102,
   "id": "0f494163",
   "metadata": {},
   "outputs": [
    {
     "data": {
      "text/plain": [
       "Gender             0.257959\n",
       "Age Range         -0.153968\n",
       "Head Size(cm^3)    0.164767\n",
       "dtype: float64"
      ]
     },
     "execution_count": 102,
     "metadata": {},
     "output_type": "execute_result"
    }
   ],
   "source": [
    "for i in ds_x.columns:\n",
    "    if ds_x[i].skew()>0.5:\n",
    "        ds_x[i]=np.cbrt(ds_x[i])\n",
    "    if ds_x[i].skew()<-0.5:\n",
    "        ds_x[i]=np.cbrt(ds_x[i])\n",
    "        \n",
    "ds_x.skew()"
   ]
  },
  {
   "cell_type": "code",
   "execution_count": 103,
   "id": "08544d8d",
   "metadata": {},
   "outputs": [
    {
     "data": {
      "text/html": [
       "<div>\n",
       "<style scoped>\n",
       "    .dataframe tbody tr th:only-of-type {\n",
       "        vertical-align: middle;\n",
       "    }\n",
       "\n",
       "    .dataframe tbody tr th {\n",
       "        vertical-align: top;\n",
       "    }\n",
       "\n",
       "    .dataframe thead th {\n",
       "        text-align: right;\n",
       "    }\n",
       "</style>\n",
       "<table border=\"1\" class=\"dataframe\">\n",
       "  <thead>\n",
       "    <tr style=\"text-align: right;\">\n",
       "      <th></th>\n",
       "      <th>Gender</th>\n",
       "      <th>Age Range</th>\n",
       "      <th>Head Size(cm^3)</th>\n",
       "    </tr>\n",
       "  </thead>\n",
       "  <tbody>\n",
       "    <tr>\n",
       "      <th>0</th>\n",
       "      <td>1</td>\n",
       "      <td>1</td>\n",
       "      <td>4512</td>\n",
       "    </tr>\n",
       "    <tr>\n",
       "      <th>1</th>\n",
       "      <td>1</td>\n",
       "      <td>1</td>\n",
       "      <td>3738</td>\n",
       "    </tr>\n",
       "    <tr>\n",
       "      <th>2</th>\n",
       "      <td>1</td>\n",
       "      <td>1</td>\n",
       "      <td>4261</td>\n",
       "    </tr>\n",
       "    <tr>\n",
       "      <th>3</th>\n",
       "      <td>1</td>\n",
       "      <td>1</td>\n",
       "      <td>3777</td>\n",
       "    </tr>\n",
       "    <tr>\n",
       "      <th>4</th>\n",
       "      <td>1</td>\n",
       "      <td>1</td>\n",
       "      <td>4177</td>\n",
       "    </tr>\n",
       "    <tr>\n",
       "      <th>...</th>\n",
       "      <td>...</td>\n",
       "      <td>...</td>\n",
       "      <td>...</td>\n",
       "    </tr>\n",
       "    <tr>\n",
       "      <th>232</th>\n",
       "      <td>2</td>\n",
       "      <td>2</td>\n",
       "      <td>3214</td>\n",
       "    </tr>\n",
       "    <tr>\n",
       "      <th>233</th>\n",
       "      <td>2</td>\n",
       "      <td>2</td>\n",
       "      <td>3394</td>\n",
       "    </tr>\n",
       "    <tr>\n",
       "      <th>234</th>\n",
       "      <td>2</td>\n",
       "      <td>2</td>\n",
       "      <td>3233</td>\n",
       "    </tr>\n",
       "    <tr>\n",
       "      <th>235</th>\n",
       "      <td>2</td>\n",
       "      <td>2</td>\n",
       "      <td>3352</td>\n",
       "    </tr>\n",
       "    <tr>\n",
       "      <th>236</th>\n",
       "      <td>2</td>\n",
       "      <td>2</td>\n",
       "      <td>3391</td>\n",
       "    </tr>\n",
       "  </tbody>\n",
       "</table>\n",
       "<p>236 rows × 3 columns</p>\n",
       "</div>"
      ],
      "text/plain": [
       "     Gender  Age Range  Head Size(cm^3)\n",
       "0         1          1             4512\n",
       "1         1          1             3738\n",
       "2         1          1             4261\n",
       "3         1          1             3777\n",
       "4         1          1             4177\n",
       "..      ...        ...              ...\n",
       "232       2          2             3214\n",
       "233       2          2             3394\n",
       "234       2          2             3233\n",
       "235       2          2             3352\n",
       "236       2          2             3391\n",
       "\n",
       "[236 rows x 3 columns]"
      ]
     },
     "execution_count": 103,
     "metadata": {},
     "output_type": "execute_result"
    }
   ],
   "source": [
    "ds_x"
   ]
  },
  {
   "cell_type": "code",
   "execution_count": 104,
   "id": "9bb9304d",
   "metadata": {},
   "outputs": [
    {
     "data": {
      "text/html": [
       "<div>\n",
       "<style scoped>\n",
       "    .dataframe tbody tr th:only-of-type {\n",
       "        vertical-align: middle;\n",
       "    }\n",
       "\n",
       "    .dataframe tbody tr th {\n",
       "        vertical-align: top;\n",
       "    }\n",
       "\n",
       "    .dataframe thead th {\n",
       "        text-align: right;\n",
       "    }\n",
       "</style>\n",
       "<table border=\"1\" class=\"dataframe\">\n",
       "  <thead>\n",
       "    <tr style=\"text-align: right;\">\n",
       "      <th></th>\n",
       "      <th>Gender</th>\n",
       "      <th>Age Range</th>\n",
       "      <th>Head Size(cm^3)</th>\n",
       "    </tr>\n",
       "  </thead>\n",
       "  <tbody>\n",
       "    <tr>\n",
       "      <th>0</th>\n",
       "      <td>-0.880021</td>\n",
       "      <td>-1.079415</td>\n",
       "      <td>2.465898</td>\n",
       "    </tr>\n",
       "    <tr>\n",
       "      <th>1</th>\n",
       "      <td>-0.880021</td>\n",
       "      <td>-1.079415</td>\n",
       "      <td>0.303723</td>\n",
       "    </tr>\n",
       "    <tr>\n",
       "      <th>2</th>\n",
       "      <td>-0.880021</td>\n",
       "      <td>-1.079415</td>\n",
       "      <td>1.764728</td>\n",
       "    </tr>\n",
       "    <tr>\n",
       "      <th>3</th>\n",
       "      <td>-0.880021</td>\n",
       "      <td>-1.079415</td>\n",
       "      <td>0.412670</td>\n",
       "    </tr>\n",
       "    <tr>\n",
       "      <th>4</th>\n",
       "      <td>-0.880021</td>\n",
       "      <td>-1.079415</td>\n",
       "      <td>1.530073</td>\n",
       "    </tr>\n",
       "    <tr>\n",
       "      <th>...</th>\n",
       "      <td>...</td>\n",
       "      <td>...</td>\n",
       "      <td>...</td>\n",
       "    </tr>\n",
       "    <tr>\n",
       "      <th>231</th>\n",
       "      <td>1.136337</td>\n",
       "      <td>0.926427</td>\n",
       "      <td>-1.160075</td>\n",
       "    </tr>\n",
       "    <tr>\n",
       "      <th>232</th>\n",
       "      <td>1.136337</td>\n",
       "      <td>0.926427</td>\n",
       "      <td>-0.657244</td>\n",
       "    </tr>\n",
       "    <tr>\n",
       "      <th>233</th>\n",
       "      <td>1.136337</td>\n",
       "      <td>0.926427</td>\n",
       "      <td>-1.106999</td>\n",
       "    </tr>\n",
       "    <tr>\n",
       "      <th>234</th>\n",
       "      <td>1.136337</td>\n",
       "      <td>0.926427</td>\n",
       "      <td>-0.774571</td>\n",
       "    </tr>\n",
       "    <tr>\n",
       "      <th>235</th>\n",
       "      <td>1.136337</td>\n",
       "      <td>0.926427</td>\n",
       "      <td>-0.665624</td>\n",
       "    </tr>\n",
       "  </tbody>\n",
       "</table>\n",
       "<p>236 rows × 3 columns</p>\n",
       "</div>"
      ],
      "text/plain": [
       "       Gender  Age Range  Head Size(cm^3)\n",
       "0   -0.880021  -1.079415         2.465898\n",
       "1   -0.880021  -1.079415         0.303723\n",
       "2   -0.880021  -1.079415         1.764728\n",
       "3   -0.880021  -1.079415         0.412670\n",
       "4   -0.880021  -1.079415         1.530073\n",
       "..        ...        ...              ...\n",
       "231  1.136337   0.926427        -1.160075\n",
       "232  1.136337   0.926427        -0.657244\n",
       "233  1.136337   0.926427        -1.106999\n",
       "234  1.136337   0.926427        -0.774571\n",
       "235  1.136337   0.926427        -0.665624\n",
       "\n",
       "[236 rows x 3 columns]"
      ]
     },
     "execution_count": 104,
     "metadata": {},
     "output_type": "execute_result"
    }
   ],
   "source": [
    "from sklearn.preprocessing import StandardScaler\n",
    "sc=StandardScaler()\n",
    "x=sc.fit_transform(ds_x)\n",
    "x=pd.DataFrame(x,columns=ds_x.columns)\n",
    "x"
   ]
  },
  {
   "cell_type": "code",
   "execution_count": 105,
   "id": "d8a0b6d4",
   "metadata": {},
   "outputs": [
    {
     "data": {
      "text/plain": [
       "(236, 3)"
      ]
     },
     "execution_count": 105,
     "metadata": {},
     "output_type": "execute_result"
    }
   ],
   "source": [
    "x.shape"
   ]
  },
  {
   "cell_type": "code",
   "execution_count": 106,
   "id": "d43bcc8f",
   "metadata": {},
   "outputs": [
    {
     "data": {
      "text/plain": [
       "(236, 1)"
      ]
     },
     "execution_count": 106,
     "metadata": {},
     "output_type": "execute_result"
    }
   ],
   "source": [
    "y.shape"
   ]
  },
  {
   "cell_type": "code",
   "execution_count": 107,
   "id": "bca7befd",
   "metadata": {},
   "outputs": [],
   "source": [
    "from sklearn.linear_model import LogisticRegression\n",
    "from sklearn.naive_bayes import GaussianNB\n",
    "from sklearn.svm import SVC\n",
    "from sklearn.ensemble import RandomForestClassifier\n",
    "from sklearn.ensemble import AdaBoostClassifier\n",
    "from sklearn.metrics import accuracy_score,confusion_matrix,classification_report\n",
    "from sklearn.preprocessing import MinMaxScaler\n",
    "from sklearn.model_selection import train_test_split\n",
    "from sklearn.model_selection import cross_val_score"
   ]
  },
  {
   "cell_type": "code",
   "execution_count": 108,
   "id": "87b6a488",
   "metadata": {},
   "outputs": [
    {
     "name": "stdout",
     "output_type": "stream",
     "text": [
      "(184, 3)\n",
      "(52, 3)\n",
      "(184, 1)\n",
      "(52, 1)\n"
     ]
    }
   ],
   "source": [
    "x_train,x_test,y_train,y_test=train_test_split(x,y,test_size=.22,random_state=43)\n",
    "print(x_train.shape)\n",
    "print(x_test.shape)\n",
    "print(y_train.shape)\n",
    "print(y_test.shape)"
   ]
  },
  {
   "cell_type": "code",
   "execution_count": 109,
   "id": "17ab4b6a",
   "metadata": {},
   "outputs": [
    {
     "name": "stdout",
     "output_type": "stream",
     "text": [
      "0.038461538461538464\n",
      "[[0 0 0 ... 0 0 0]\n",
      " [0 0 0 ... 0 0 0]\n",
      " [0 0 0 ... 0 0 0]\n",
      " ...\n",
      " [0 0 0 ... 0 0 0]\n",
      " [0 0 0 ... 0 0 0]\n",
      " [0 0 0 ... 0 0 0]]\n",
      "              precision    recall  f1-score   support\n",
      "\n",
      "        1012       0.00      0.00      0.00         1\n",
      "        1027       0.00      0.00      0.00         1\n",
      "        1060       0.00      0.00      0.00         1\n",
      "        1120       0.00      0.00      0.00         1\n",
      "        1127       0.00      0.00      0.00         0\n",
      "        1130       0.00      0.00      0.00         1\n",
      "        1154       0.00      0.00      0.00         1\n",
      "        1165       0.00      0.00      0.00         1\n",
      "        1168       0.00      0.00      0.00         1\n",
      "        1178       0.00      0.00      0.00         1\n",
      "        1180       0.00      0.00      0.00         2\n",
      "        1188       0.00      0.00      0.00         1\n",
      "        1210       0.00      0.00      0.00         0\n",
      "        1220       0.08      1.00      0.14         1\n",
      "        1225       0.00      0.00      0.00         1\n",
      "        1235       0.00      0.00      0.00         1\n",
      "        1236       0.00      0.00      0.00         1\n",
      "        1240       0.00      0.00      0.00         1\n",
      "        1249       0.00      0.00      0.00         1\n",
      "        1250       0.00      0.00      0.00         1\n",
      "        1252       0.00      0.00      0.00         2\n",
      "        1265       0.00      0.00      0.00         1\n",
      "        1270       0.00      0.00      0.00         2\n",
      "        1280       0.00      0.00      0.00         2\n",
      "        1290       0.00      0.00      0.00         2\n",
      "        1292       0.00      0.00      0.00         1\n",
      "        1300       0.00      0.00      0.00         1\n",
      "        1310       0.00      0.00      0.00         3\n",
      "        1315       0.00      0.00      0.00         1\n",
      "        1318       0.00      0.00      0.00         1\n",
      "        1320       0.00      0.00      0.00         1\n",
      "        1324       0.00      0.00      0.00         1\n",
      "        1330       0.00      0.00      0.00         1\n",
      "        1335       0.00      0.00      0.00         1\n",
      "        1340       0.20      0.50      0.29         2\n",
      "        1350       0.00      0.00      0.00         3\n",
      "        1355       0.00      0.00      0.00         1\n",
      "        1380       0.00      0.00      0.00         2\n",
      "        1400       0.00      0.00      0.00         0\n",
      "        1405       0.00      0.00      0.00         1\n",
      "        1415       0.00      0.00      0.00         0\n",
      "        1430       0.00      0.00      0.00         1\n",
      "        1440       0.00      0.00      0.00         1\n",
      "        1510       0.00      0.00      0.00         1\n",
      "        1530       0.00      0.00      0.00         1\n",
      "\n",
      "    accuracy                           0.04        52\n",
      "   macro avg       0.01      0.03      0.01        52\n",
      "weighted avg       0.01      0.04      0.01        52\n",
      "\n"
     ]
    }
   ],
   "source": [
    "lg=LogisticRegression()\n",
    "lg.fit(x_train,y_train)\n",
    "pred=lg.predict(x_test)\n",
    "print(accuracy_score(y_test,pred))\n",
    "print(confusion_matrix(y_test,pred))\n",
    "print(classification_report(y_test,pred))"
   ]
  },
  {
   "cell_type": "code",
   "execution_count": null,
   "id": "a9cf941d",
   "metadata": {},
   "outputs": [],
   "source": []
  },
  {
   "cell_type": "code",
   "execution_count": 110,
   "id": "59adfdec",
   "metadata": {},
   "outputs": [
    {
     "name": "stdout",
     "output_type": "stream",
     "text": [
      "accuracy score:\n",
      "0.038461538461538464\n",
      "[[0 0 0 ... 0 0 0]\n",
      " [0 0 0 ... 0 0 0]\n",
      " [0 0 0 ... 0 0 0]\n",
      " ...\n",
      " [0 0 0 ... 0 0 1]\n",
      " [0 0 0 ... 0 0 0]\n",
      " [0 0 0 ... 0 0 0]]\n",
      "              precision    recall  f1-score   support\n",
      "\n",
      "        1012       0.00      0.00      0.00         1\n",
      "        1027       0.00      0.00      0.00         1\n",
      "        1060       0.00      0.00      0.00         1\n",
      "        1120       0.00      0.00      0.00         1\n",
      "        1127       0.00      0.00      0.00         0\n",
      "        1130       0.00      0.00      0.00         1\n",
      "        1154       0.00      0.00      0.00         1\n",
      "        1165       0.00      0.00      0.00         1\n",
      "        1168       0.00      0.00      0.00         1\n",
      "        1170       0.00      0.00      0.00         0\n",
      "        1178       0.00      0.00      0.00         1\n",
      "        1180       0.00      0.00      0.00         2\n",
      "        1188       0.00      0.00      0.00         1\n",
      "        1210       0.00      0.00      0.00         0\n",
      "        1220       0.14      1.00      0.25         1\n",
      "        1225       0.00      0.00      0.00         1\n",
      "        1235       0.00      0.00      0.00         1\n",
      "        1236       0.00      0.00      0.00         1\n",
      "        1240       0.00      0.00      0.00         1\n",
      "        1245       0.00      0.00      0.00         0\n",
      "        1249       0.00      0.00      0.00         1\n",
      "        1250       0.00      0.00      0.00         1\n",
      "        1252       0.00      0.00      0.00         2\n",
      "        1265       0.00      0.00      0.00         1\n",
      "        1270       0.00      0.00      0.00         2\n",
      "        1280       0.00      0.00      0.00         2\n",
      "        1290       0.00      0.00      0.00         2\n",
      "        1292       0.00      0.00      0.00         1\n",
      "        1300       0.00      0.00      0.00         1\n",
      "        1310       0.00      0.00      0.00         3\n",
      "        1315       0.00      0.00      0.00         1\n",
      "        1318       0.00      0.00      0.00         1\n",
      "        1320       0.00      0.00      0.00         1\n",
      "        1324       0.00      0.00      0.00         1\n",
      "        1330       0.00      0.00      0.00         1\n",
      "        1335       0.00      0.00      0.00         1\n",
      "        1340       0.20      0.50      0.29         2\n",
      "        1350       0.00      0.00      0.00         3\n",
      "        1355       0.00      0.00      0.00         1\n",
      "        1375       0.00      0.00      0.00         0\n",
      "        1380       0.00      0.00      0.00         2\n",
      "        1400       0.00      0.00      0.00         0\n",
      "        1405       0.00      0.00      0.00         1\n",
      "        1415       0.00      0.00      0.00         0\n",
      "        1430       0.00      0.00      0.00         1\n",
      "        1440       0.00      0.00      0.00         1\n",
      "        1510       0.00      0.00      0.00         1\n",
      "        1530       0.00      0.00      0.00         1\n",
      "        1620       0.00      0.00      0.00         0\n",
      "\n",
      "    accuracy                           0.04        52\n",
      "   macro avg       0.01      0.03      0.01        52\n",
      "weighted avg       0.01      0.04      0.02        52\n",
      "\n"
     ]
    }
   ],
   "source": [
    "gnb=GaussianNB()\n",
    "gnb.fit(x_train,y_train)\n",
    "predg=gnb.predict(x_test)\n",
    "print('accuracy score:',)\n",
    "print(accuracy_score(y_test,predg))\n",
    "print(confusion_matrix(y_test,predg))\n",
    "print(classification_report(y_test,predg))"
   ]
  },
  {
   "cell_type": "code",
   "execution_count": 111,
   "id": "f533a2ff",
   "metadata": {},
   "outputs": [
    {
     "name": "stdout",
     "output_type": "stream",
     "text": [
      "accuracy score:\n",
      "0.038461538461538464\n",
      "[[0 0 0 ... 0 0 0]\n",
      " [0 0 0 ... 0 0 0]\n",
      " [0 0 0 ... 0 0 0]\n",
      " ...\n",
      " [0 0 0 ... 0 0 0]\n",
      " [0 0 0 ... 0 0 0]\n",
      " [0 0 0 ... 0 0 0]]\n",
      "              precision    recall  f1-score   support\n",
      "\n",
      "        1012       0.00      0.00      0.00         1\n",
      "        1027       0.00      0.00      0.00         1\n",
      "        1060       0.00      0.00      0.00         1\n",
      "        1120       0.00      0.00      0.00         1\n",
      "        1127       0.00      0.00      0.00         0\n",
      "        1130       0.00      0.00      0.00         1\n",
      "        1154       0.00      0.00      0.00         1\n",
      "        1165       0.00      0.00      0.00         1\n",
      "        1168       0.00      0.00      0.00         1\n",
      "        1178       0.00      0.00      0.00         1\n",
      "        1180       0.00      0.00      0.00         2\n",
      "        1188       0.00      0.00      0.00         1\n",
      "        1210       0.00      0.00      0.00         0\n",
      "        1220       0.12      1.00      0.22         1\n",
      "        1225       0.00      0.00      0.00         1\n",
      "        1235       0.00      0.00      0.00         1\n",
      "        1236       0.00      0.00      0.00         1\n",
      "        1240       0.00      0.00      0.00         1\n",
      "        1249       0.00      0.00      0.00         1\n",
      "        1250       0.00      0.00      0.00         1\n",
      "        1252       0.00      0.00      0.00         2\n",
      "        1265       0.00      0.00      0.00         1\n",
      "        1270       0.00      0.00      0.00         2\n",
      "        1280       0.00      0.00      0.00         2\n",
      "        1290       0.00      0.00      0.00         2\n",
      "        1292       0.00      0.00      0.00         1\n",
      "        1300       0.00      0.00      0.00         1\n",
      "        1310       0.00      0.00      0.00         3\n",
      "        1315       0.00      0.00      0.00         1\n",
      "        1318       0.00      0.00      0.00         1\n",
      "        1320       0.00      0.00      0.00         1\n",
      "        1324       0.00      0.00      0.00         1\n",
      "        1330       0.00      0.00      0.00         1\n",
      "        1335       0.00      0.00      0.00         1\n",
      "        1340       0.00      0.00      0.00         2\n",
      "        1350       0.08      0.33      0.13         3\n",
      "        1355       0.00      0.00      0.00         1\n",
      "        1380       0.00      0.00      0.00         2\n",
      "        1400       0.00      0.00      0.00         0\n",
      "        1405       0.00      0.00      0.00         1\n",
      "        1415       0.00      0.00      0.00         0\n",
      "        1430       0.00      0.00      0.00         1\n",
      "        1440       0.00      0.00      0.00         1\n",
      "        1510       0.00      0.00      0.00         1\n",
      "        1530       0.00      0.00      0.00         1\n",
      "\n",
      "    accuracy                           0.04        52\n",
      "   macro avg       0.00      0.03      0.01        52\n",
      "weighted avg       0.01      0.04      0.01        52\n",
      "\n"
     ]
    }
   ],
   "source": [
    "sv=SVC()\n",
    "sv.fit(x_train,y_train)\n",
    "pred=sv.predict(x_test)\n",
    "print('accuracy score:',)\n",
    "print(accuracy_score(y_test,pred))\n",
    "print(confusion_matrix(y_test,pred))\n",
    "print(classification_report(y_test,pred))"
   ]
  },
  {
   "cell_type": "code",
   "execution_count": 113,
   "id": "a4d6a14c",
   "metadata": {},
   "outputs": [
    {
     "name": "stdout",
     "output_type": "stream",
     "text": [
      "accuracy score:\n",
      "0.019230769230769232\n",
      "[[0 0 0 ... 0 0 0]\n",
      " [0 0 0 ... 0 0 0]\n",
      " [0 0 0 ... 0 0 0]\n",
      " ...\n",
      " [0 0 0 ... 0 0 1]\n",
      " [0 0 0 ... 0 0 0]\n",
      " [0 0 0 ... 0 0 0]]\n",
      "              precision    recall  f1-score   support\n",
      "\n",
      "        1012       0.00      0.00      0.00         1\n",
      "        1027       0.00      0.00      0.00         1\n",
      "        1060       0.00      0.00      0.00         1\n",
      "        1070       0.00      0.00      0.00         0\n",
      "        1075       0.00      0.00      0.00         0\n",
      "        1078       0.00      0.00      0.00         0\n",
      "        1103       0.00      0.00      0.00         0\n",
      "        1104       0.00      0.00      0.00         0\n",
      "        1120       0.00      0.00      0.00         1\n",
      "        1130       0.00      0.00      0.00         1\n",
      "        1150       0.00      0.00      0.00         0\n",
      "        1154       0.00      0.00      0.00         1\n",
      "        1165       0.00      0.00      0.00         1\n",
      "        1168       0.00      0.00      0.00         1\n",
      "        1175       0.00      0.00      0.00         0\n",
      "        1178       0.00      0.00      0.00         1\n",
      "        1180       0.00      0.00      0.00         2\n",
      "        1188       0.00      0.00      0.00         1\n",
      "        1192       0.00      0.00      0.00         0\n",
      "        1210       0.00      0.00      0.00         0\n",
      "        1220       0.00      0.00      0.00         1\n",
      "        1224       0.00      0.00      0.00         0\n",
      "        1225       0.00      0.00      0.00         1\n",
      "        1230       0.00      0.00      0.00         0\n",
      "        1235       0.00      0.00      0.00         1\n",
      "        1236       0.00      0.00      0.00         1\n",
      "        1237       0.00      0.00      0.00         0\n",
      "        1240       0.00      0.00      0.00         1\n",
      "        1241       0.00      0.00      0.00         0\n",
      "        1243       0.00      0.00      0.00         0\n",
      "        1245       0.00      0.00      0.00         0\n",
      "        1249       0.00      0.00      0.00         1\n",
      "        1250       0.00      0.00      0.00         1\n",
      "        1252       0.00      0.00      0.00         2\n",
      "        1265       0.00      0.00      0.00         1\n",
      "        1270       0.00      0.00      0.00         2\n",
      "        1280       0.00      0.00      0.00         2\n",
      "        1290       0.00      0.00      0.00         2\n",
      "        1292       0.00      0.00      0.00         1\n",
      "        1300       0.00      0.00      0.00         1\n",
      "        1309       0.00      0.00      0.00         0\n",
      "        1310       0.00      0.00      0.00         3\n",
      "        1315       0.00      0.00      0.00         1\n",
      "        1316       0.00      0.00      0.00         0\n",
      "        1318       0.00      0.00      0.00         1\n",
      "        1320       0.00      0.00      0.00         1\n",
      "        1321       0.00      0.00      0.00         0\n",
      "        1324       0.00      0.00      0.00         1\n",
      "        1330       0.00      0.00      0.00         1\n",
      "        1335       1.00      1.00      1.00         1\n",
      "        1340       0.00      0.00      0.00         2\n",
      "        1346       0.00      0.00      0.00         0\n",
      "        1350       0.00      0.00      0.00         3\n",
      "        1355       0.00      0.00      0.00         1\n",
      "        1357       0.00      0.00      0.00         0\n",
      "        1358       0.00      0.00      0.00         0\n",
      "        1362       0.00      0.00      0.00         0\n",
      "        1375       0.00      0.00      0.00         0\n",
      "        1380       0.00      0.00      0.00         2\n",
      "        1400       0.00      0.00      0.00         0\n",
      "        1405       0.00      0.00      0.00         1\n",
      "        1430       0.00      0.00      0.00         1\n",
      "        1440       0.00      0.00      0.00         1\n",
      "        1510       0.00      0.00      0.00         1\n",
      "        1530       0.00      0.00      0.00         1\n",
      "        1620       0.00      0.00      0.00         0\n",
      "\n",
      "    accuracy                           0.02        52\n",
      "   macro avg       0.02      0.02      0.02        52\n",
      "weighted avg       0.02      0.02      0.02        52\n",
      "\n"
     ]
    }
   ],
   "source": [
    "rf=RandomForestClassifier(n_estimators=100)   #finding the accuracy score with randomforestclassifier\n",
    "rf.fit(x_train,y_train)\n",
    "pred=rf.predict(x_test)\n",
    "print('accuracy score:',)\n",
    "print(accuracy_score(y_test,pred))\n",
    "print(confusion_matrix(y_test,pred))\n",
    "print(classification_report(y_test,pred))"
   ]
  },
  {
   "cell_type": "code",
   "execution_count": 114,
   "id": "0f2d5024",
   "metadata": {},
   "outputs": [
    {
     "name": "stdout",
     "output_type": "stream",
     "text": [
      "[0.04166667 0.04255319 0.04255319 0.04255319 0.0212766 ]\n",
      "0.038120567375886524\n"
     ]
    }
   ],
   "source": [
    "score=cross_val_score(sv,x,y,cv=5)\n",
    "print(score)\n",
    "print(score.mean())"
   ]
  },
  {
   "cell_type": "code",
   "execution_count": 115,
   "id": "d0c9ca3f",
   "metadata": {},
   "outputs": [
    {
     "name": "stdout",
     "output_type": "stream",
     "text": [
      "[0.        0.        0.        0.        0.0212766]\n",
      "0.00425531914893617\n"
     ]
    }
   ],
   "source": [
    "score=cross_val_score(gnb,x,y,cv=5)\n",
    "print(score)\n",
    "print(score.mean())"
   ]
  },
  {
   "cell_type": "code",
   "execution_count": 116,
   "id": "0eb136ed",
   "metadata": {},
   "outputs": [
    {
     "name": "stdout",
     "output_type": "stream",
     "text": [
      "[0.         0.0212766  0.0212766  0.04255319 0.        ]\n",
      "0.01702127659574468\n"
     ]
    }
   ],
   "source": [
    "score=cross_val_score(rf,x,y,cv=5)\n",
    "print(score)\n",
    "print(score.mean())"
   ]
  },
  {
   "cell_type": "code",
   "execution_count": 117,
   "id": "92beac1b",
   "metadata": {},
   "outputs": [
    {
     "data": {
      "text/plain": [
       "['Brainhead.obj']"
      ]
     },
     "execution_count": 117,
     "metadata": {},
     "output_type": "execute_result"
    }
   ],
   "source": [
    "joblib.dump(rf,\"Brainhead.obj\")"
   ]
  },
  {
   "cell_type": "code",
   "execution_count": 118,
   "id": "9a36571b",
   "metadata": {},
   "outputs": [
    {
     "data": {
      "text/plain": [
       "array([1110, 1250, 1192, 1400, 1485, 1360, 1290, 1525, 1588, 1185, 1204,\n",
       "       1375, 1297, 1245, 1180, 1165, 1022, 1560, 1506, 1275, 1270, 1350,\n",
       "       1355, 1430, 1275, 1296, 1215, 1163, 1173, 1245, 1300, 1425, 1340,\n",
       "       1132, 1334, 1422, 1290, 1290, 1374, 1200, 1400, 1357, 1432, 1270,\n",
       "       1432, 1240, 1105, 1485, 1350, 1306, 1279, 1350, 1346, 1130, 1322,\n",
       "       1120, 1127, 1250, 1321, 1335, 1160, 1250, 1320, 1468, 1237, 1235,\n",
       "       1415, 1080, 1432, 1242, 1440, 1180, 1192, 1190, 1220,  955, 1340,\n",
       "       1380, 1240, 1175, 1490, 1408, 1060, 1280, 1590, 1225, 1460, 1355,\n",
       "       1522, 1300, 1364, 1078, 1470, 1620, 1220, 1380, 1104, 1275, 1127,\n",
       "       1165, 1320, 1235, 1309, 1208, 1120, 1175, 1103, 1125, 1400, 1316,\n",
       "       1505, 1390, 1142, 1450, 1270, 1243, 1390, 1173, 1205, 1350, 1220,\n",
       "       1218, 1090, 1255, 1310, 1195, 1243, 1170, 1300, 1302, 1373, 1202,\n",
       "       1220, 1282, 1520, 1280, 1260, 1311, 1412, 1330, 1260, 1095, 1420,\n",
       "       1256, 1100, 1300, 1075, 1240, 1290, 1175, 1405, 1405, 1210, 1305,\n",
       "       1070, 1350, 1310, 1362, 1246, 1225, 1207, 1295, 1250, 1370, 1150,\n",
       "       1306, 1210, 1312, 1375, 1170, 1280, 1241, 1250, 1076, 1230, 1243,\n",
       "       1140, 1335, 1358, 1222, 1287, 1224, 1135, 1415], dtype=int64)"
      ]
     },
     "execution_count": 118,
     "metadata": {},
     "output_type": "execute_result"
    }
   ],
   "source": [
    "Brainfile=joblib.load(\"Brainhead.obj\")\n",
    "Brainfile.predict(x_train)"
   ]
  },
  {
   "cell_type": "code",
   "execution_count": 119,
   "id": "a1f4d10b",
   "metadata": {},
   "outputs": [
    {
     "name": "stdout",
     "output_type": "stream",
     "text": [
      "accuracy score: of LogisticRegression()\n",
      "0.038461538461538464\n",
      "[[0 0 0 ... 0 0 0]\n",
      " [0 0 0 ... 0 0 0]\n",
      " [0 0 0 ... 0 0 0]\n",
      " ...\n",
      " [0 0 0 ... 0 0 0]\n",
      " [0 0 0 ... 0 0 0]\n",
      " [0 0 0 ... 0 0 0]]\n",
      "              precision    recall  f1-score   support\n",
      "\n",
      "        1012       0.00      0.00      0.00         1\n",
      "        1027       0.00      0.00      0.00         1\n",
      "        1060       0.00      0.00      0.00         1\n",
      "        1120       0.00      0.00      0.00         1\n",
      "        1127       0.00      0.00      0.00         0\n",
      "        1130       0.00      0.00      0.00         1\n",
      "        1154       0.00      0.00      0.00         1\n",
      "        1165       0.00      0.00      0.00         1\n",
      "        1168       0.00      0.00      0.00         1\n",
      "        1178       0.00      0.00      0.00         1\n",
      "        1180       0.00      0.00      0.00         2\n",
      "        1188       0.00      0.00      0.00         1\n",
      "        1210       0.00      0.00      0.00         0\n",
      "        1220       0.08      1.00      0.14         1\n",
      "        1225       0.00      0.00      0.00         1\n",
      "        1235       0.00      0.00      0.00         1\n",
      "        1236       0.00      0.00      0.00         1\n",
      "        1240       0.00      0.00      0.00         1\n",
      "        1249       0.00      0.00      0.00         1\n",
      "        1250       0.00      0.00      0.00         1\n",
      "        1252       0.00      0.00      0.00         2\n",
      "        1265       0.00      0.00      0.00         1\n",
      "        1270       0.00      0.00      0.00         2\n",
      "        1280       0.00      0.00      0.00         2\n",
      "        1290       0.00      0.00      0.00         2\n",
      "        1292       0.00      0.00      0.00         1\n",
      "        1300       0.00      0.00      0.00         1\n",
      "        1310       0.00      0.00      0.00         3\n",
      "        1315       0.00      0.00      0.00         1\n",
      "        1318       0.00      0.00      0.00         1\n",
      "        1320       0.00      0.00      0.00         1\n",
      "        1324       0.00      0.00      0.00         1\n",
      "        1330       0.00      0.00      0.00         1\n",
      "        1335       0.00      0.00      0.00         1\n",
      "        1340       0.20      0.50      0.29         2\n",
      "        1350       0.00      0.00      0.00         3\n",
      "        1355       0.00      0.00      0.00         1\n",
      "        1380       0.00      0.00      0.00         2\n",
      "        1400       0.00      0.00      0.00         0\n",
      "        1405       0.00      0.00      0.00         1\n",
      "        1415       0.00      0.00      0.00         0\n",
      "        1430       0.00      0.00      0.00         1\n",
      "        1440       0.00      0.00      0.00         1\n",
      "        1510       0.00      0.00      0.00         1\n",
      "        1530       0.00      0.00      0.00         1\n",
      "\n",
      "    accuracy                           0.04        52\n",
      "   macro avg       0.01      0.03      0.01        52\n",
      "weighted avg       0.01      0.04      0.01        52\n",
      "\n",
      "[0.         0.04255319 0.06382979 0.0212766  0.0212766 ]\n",
      "0.02978723404255319\n",
      "accuracy score: of SVC()\n",
      "0.038461538461538464\n",
      "[[0 0 0 ... 0 0 0]\n",
      " [0 0 0 ... 0 0 0]\n",
      " [0 0 0 ... 0 0 0]\n",
      " ...\n",
      " [0 0 0 ... 0 0 0]\n",
      " [0 0 0 ... 0 0 0]\n",
      " [0 0 0 ... 0 0 0]]\n",
      "              precision    recall  f1-score   support\n",
      "\n",
      "        1012       0.00      0.00      0.00         1\n",
      "        1027       0.00      0.00      0.00         1\n",
      "        1060       0.00      0.00      0.00         1\n",
      "        1120       0.00      0.00      0.00         1\n",
      "        1127       0.00      0.00      0.00         0\n",
      "        1130       0.00      0.00      0.00         1\n",
      "        1154       0.00      0.00      0.00         1\n",
      "        1165       0.00      0.00      0.00         1\n",
      "        1168       0.00      0.00      0.00         1\n",
      "        1178       0.00      0.00      0.00         1\n",
      "        1180       0.00      0.00      0.00         2\n",
      "        1188       0.00      0.00      0.00         1\n",
      "        1210       0.00      0.00      0.00         0\n",
      "        1220       0.12      1.00      0.22         1\n",
      "        1225       0.00      0.00      0.00         1\n",
      "        1235       0.00      0.00      0.00         1\n",
      "        1236       0.00      0.00      0.00         1\n",
      "        1240       0.00      0.00      0.00         1\n",
      "        1249       0.00      0.00      0.00         1\n",
      "        1250       0.00      0.00      0.00         1\n",
      "        1252       0.00      0.00      0.00         2\n",
      "        1265       0.00      0.00      0.00         1\n",
      "        1270       0.00      0.00      0.00         2\n",
      "        1280       0.00      0.00      0.00         2\n",
      "        1290       0.00      0.00      0.00         2\n",
      "        1292       0.00      0.00      0.00         1\n",
      "        1300       0.00      0.00      0.00         1\n",
      "        1310       0.00      0.00      0.00         3\n",
      "        1315       0.00      0.00      0.00         1\n",
      "        1318       0.00      0.00      0.00         1\n",
      "        1320       0.00      0.00      0.00         1\n",
      "        1324       0.00      0.00      0.00         1\n",
      "        1330       0.00      0.00      0.00         1\n",
      "        1335       0.00      0.00      0.00         1\n",
      "        1340       0.00      0.00      0.00         2\n",
      "        1350       0.08      0.33      0.13         3\n",
      "        1355       0.00      0.00      0.00         1\n",
      "        1380       0.00      0.00      0.00         2\n",
      "        1400       0.00      0.00      0.00         0\n",
      "        1405       0.00      0.00      0.00         1\n",
      "        1415       0.00      0.00      0.00         0\n",
      "        1430       0.00      0.00      0.00         1\n",
      "        1440       0.00      0.00      0.00         1\n",
      "        1510       0.00      0.00      0.00         1\n",
      "        1530       0.00      0.00      0.00         1\n",
      "\n",
      "    accuracy                           0.04        52\n",
      "   macro avg       0.00      0.03      0.01        52\n",
      "weighted avg       0.01      0.04      0.01        52\n",
      "\n",
      "[0.04166667 0.04255319 0.04255319 0.04255319 0.0212766 ]\n",
      "0.038120567375886524\n",
      "accuracy score: of GaussianNB()\n",
      "0.038461538461538464\n",
      "[[0 0 0 ... 0 0 0]\n",
      " [0 0 0 ... 0 0 0]\n",
      " [0 0 0 ... 0 0 0]\n",
      " ...\n",
      " [0 0 0 ... 0 0 1]\n",
      " [0 0 0 ... 0 0 0]\n",
      " [0 0 0 ... 0 0 0]]\n",
      "              precision    recall  f1-score   support\n",
      "\n",
      "        1012       0.00      0.00      0.00         1\n",
      "        1027       0.00      0.00      0.00         1\n",
      "        1060       0.00      0.00      0.00         1\n",
      "        1120       0.00      0.00      0.00         1\n",
      "        1127       0.00      0.00      0.00         0\n",
      "        1130       0.00      0.00      0.00         1\n",
      "        1154       0.00      0.00      0.00         1\n",
      "        1165       0.00      0.00      0.00         1\n",
      "        1168       0.00      0.00      0.00         1\n",
      "        1170       0.00      0.00      0.00         0\n",
      "        1178       0.00      0.00      0.00         1\n",
      "        1180       0.00      0.00      0.00         2\n",
      "        1188       0.00      0.00      0.00         1\n",
      "        1210       0.00      0.00      0.00         0\n",
      "        1220       0.14      1.00      0.25         1\n",
      "        1225       0.00      0.00      0.00         1\n",
      "        1235       0.00      0.00      0.00         1\n",
      "        1236       0.00      0.00      0.00         1\n",
      "        1240       0.00      0.00      0.00         1\n",
      "        1245       0.00      0.00      0.00         0\n",
      "        1249       0.00      0.00      0.00         1\n",
      "        1250       0.00      0.00      0.00         1\n",
      "        1252       0.00      0.00      0.00         2\n",
      "        1265       0.00      0.00      0.00         1\n",
      "        1270       0.00      0.00      0.00         2\n",
      "        1280       0.00      0.00      0.00         2\n",
      "        1290       0.00      0.00      0.00         2\n",
      "        1292       0.00      0.00      0.00         1\n",
      "        1300       0.00      0.00      0.00         1\n",
      "        1310       0.00      0.00      0.00         3\n",
      "        1315       0.00      0.00      0.00         1\n",
      "        1318       0.00      0.00      0.00         1\n",
      "        1320       0.00      0.00      0.00         1\n",
      "        1324       0.00      0.00      0.00         1\n",
      "        1330       0.00      0.00      0.00         1\n",
      "        1335       0.00      0.00      0.00         1\n",
      "        1340       0.20      0.50      0.29         2\n",
      "        1350       0.00      0.00      0.00         3\n",
      "        1355       0.00      0.00      0.00         1\n",
      "        1375       0.00      0.00      0.00         0\n",
      "        1380       0.00      0.00      0.00         2\n",
      "        1400       0.00      0.00      0.00         0\n",
      "        1405       0.00      0.00      0.00         1\n",
      "        1415       0.00      0.00      0.00         0\n",
      "        1430       0.00      0.00      0.00         1\n",
      "        1440       0.00      0.00      0.00         1\n",
      "        1510       0.00      0.00      0.00         1\n",
      "        1530       0.00      0.00      0.00         1\n",
      "        1620       0.00      0.00      0.00         0\n",
      "\n",
      "    accuracy                           0.04        52\n",
      "   macro avg       0.01      0.03      0.01        52\n",
      "weighted avg       0.01      0.04      0.02        52\n",
      "\n",
      "[0.        0.        0.        0.        0.0212766]\n",
      "0.00425531914893617\n",
      "accuracy score: of RandomForestClassifier()\n",
      "0.019230769230769232\n",
      "[[0 0 0 ... 0 0 0]\n",
      " [0 0 0 ... 0 0 0]\n",
      " [0 0 0 ... 0 0 0]\n",
      " ...\n",
      " [0 0 0 ... 0 0 1]\n",
      " [0 0 0 ... 0 0 0]\n",
      " [0 0 0 ... 0 0 0]]\n",
      "              precision    recall  f1-score   support\n",
      "\n",
      "        1012       0.00      0.00      0.00         1\n",
      "        1027       0.00      0.00      0.00         1\n",
      "        1060       0.00      0.00      0.00         1\n",
      "        1070       0.00      0.00      0.00         0\n",
      "        1075       0.00      0.00      0.00         0\n",
      "        1078       0.00      0.00      0.00         0\n",
      "        1103       0.00      0.00      0.00         0\n",
      "        1104       0.00      0.00      0.00         0\n",
      "        1120       0.00      0.00      0.00         1\n",
      "        1130       0.00      0.00      0.00         1\n",
      "        1150       0.00      0.00      0.00         0\n",
      "        1154       0.00      0.00      0.00         1\n",
      "        1165       0.00      0.00      0.00         1\n",
      "        1168       0.00      0.00      0.00         1\n",
      "        1175       0.00      0.00      0.00         0\n",
      "        1178       0.00      0.00      0.00         1\n",
      "        1180       0.00      0.00      0.00         2\n",
      "        1188       0.00      0.00      0.00         1\n",
      "        1192       0.00      0.00      0.00         0\n",
      "        1210       0.00      0.00      0.00         0\n",
      "        1220       0.00      0.00      0.00         1\n",
      "        1224       0.00      0.00      0.00         0\n",
      "        1225       0.00      0.00      0.00         1\n",
      "        1230       0.00      0.00      0.00         0\n",
      "        1235       0.00      0.00      0.00         1\n",
      "        1236       0.00      0.00      0.00         1\n",
      "        1237       0.00      0.00      0.00         0\n",
      "        1240       0.00      0.00      0.00         1\n",
      "        1241       0.00      0.00      0.00         0\n",
      "        1243       0.00      0.00      0.00         0\n",
      "        1245       0.00      0.00      0.00         0\n",
      "        1249       0.00      0.00      0.00         1\n",
      "        1250       0.00      0.00      0.00         1\n",
      "        1252       0.00      0.00      0.00         2\n",
      "        1265       0.00      0.00      0.00         1\n",
      "        1270       0.00      0.00      0.00         2\n",
      "        1280       0.00      0.00      0.00         2\n",
      "        1290       0.00      0.00      0.00         2\n",
      "        1292       0.00      0.00      0.00         1\n",
      "        1300       0.00      0.00      0.00         1\n",
      "        1309       0.00      0.00      0.00         0\n",
      "        1310       0.00      0.00      0.00         3\n",
      "        1315       0.00      0.00      0.00         1\n",
      "        1316       0.00      0.00      0.00         0\n",
      "        1318       0.00      0.00      0.00         1\n",
      "        1320       0.00      0.00      0.00         1\n",
      "        1321       0.00      0.00      0.00         0\n",
      "        1324       0.00      0.00      0.00         1\n",
      "        1330       0.00      0.00      0.00         1\n",
      "        1335       1.00      1.00      1.00         1\n",
      "        1340       0.00      0.00      0.00         2\n",
      "        1346       0.00      0.00      0.00         0\n",
      "        1350       0.00      0.00      0.00         3\n",
      "        1355       0.00      0.00      0.00         1\n",
      "        1357       0.00      0.00      0.00         0\n",
      "        1358       0.00      0.00      0.00         0\n",
      "        1362       0.00      0.00      0.00         0\n",
      "        1375       0.00      0.00      0.00         0\n",
      "        1380       0.00      0.00      0.00         2\n",
      "        1400       0.00      0.00      0.00         0\n",
      "        1405       0.00      0.00      0.00         1\n",
      "        1430       0.00      0.00      0.00         1\n",
      "        1440       0.00      0.00      0.00         1\n",
      "        1510       0.00      0.00      0.00         1\n",
      "        1530       0.00      0.00      0.00         1\n",
      "        1620       0.00      0.00      0.00         0\n",
      "\n",
      "    accuracy                           0.02        52\n",
      "   macro avg       0.02      0.02      0.02        52\n",
      "weighted avg       0.02      0.02      0.02        52\n",
      "\n",
      "[0.         0.0212766  0.0212766  0.04255319 0.        ]\n",
      "0.01702127659574468\n"
     ]
    }
   ],
   "source": [
    "model=[lg,sv,gnb,rf]\n",
    "for m in model:\n",
    "    m.fit(x_train,y_train)\n",
    "    pred=m.predict(x_test)\n",
    "    print('accuracy score: of',m)\n",
    "    print(accuracy_score(y_test,pred))\n",
    "    print(confusion_matrix(y_test,pred))\n",
    "    print(classification_report(y_test,pred))\n",
    "    score=cross_val_score(m,x,y,cv=5)\n",
    "    print(score)\n",
    "    print(score.mean())"
   ]
  },
  {
   "cell_type": "code",
   "execution_count": 120,
   "id": "df4d20f5",
   "metadata": {},
   "outputs": [
    {
     "data": {
      "text/plain": [
       "['svmodel1.obj']"
      ]
     },
     "execution_count": 120,
     "metadata": {},
     "output_type": "execute_result"
    }
   ],
   "source": [
    "joblib.dump(sv,\"svmodel1.obj\")"
   ]
  },
  {
   "cell_type": "code",
   "execution_count": 121,
   "id": "fc2e2df5",
   "metadata": {},
   "outputs": [
    {
     "data": {
      "text/plain": [
       "array([1220, 1290, 1290, 1400, 1415, 1290, 1290, 1400, 1290, 1220, 1220,\n",
       "       1350, 1350, 1290, 1290, 1290, 1220, 1415, 1400, 1290, 1290, 1290,\n",
       "       1350, 1290, 1350, 1250, 1300, 1210, 1290, 1290, 1250, 1300, 1350,\n",
       "       1290, 1350, 1400, 1290, 1290, 1350, 1127, 1400, 1350, 1350, 1290,\n",
       "       1400, 1290, 1220, 1400, 1350, 1210, 1290, 1210, 1290, 1220, 1127,\n",
       "       1220, 1127, 1250, 1350, 1290, 1210, 1127, 1250, 1290, 1220, 1235,\n",
       "       1290, 1250, 1300, 1290, 1290, 1250, 1235, 1127, 1290,  955, 1300,\n",
       "       1250, 1210, 1127, 1400, 1250, 1220, 1210, 1400, 1220, 1210, 1350,\n",
       "       1400, 1350, 1400, 1250, 1290, 1415, 1250, 1350, 1220, 1350, 1210,\n",
       "       1290, 1350, 1350, 1290, 1350, 1290, 1220, 1250, 1290, 1350, 1210,\n",
       "       1400, 1290, 1220, 1300, 1350, 1127, 1400, 1290, 1210, 1250, 1220,\n",
       "       1290, 1220, 1350, 1350, 1290, 1220, 1127, 1290, 1350, 1350, 1127,\n",
       "       1220, 1350, 1350, 1350, 1290, 1350, 1290, 1415, 1350, 1220, 1400,\n",
       "       1415, 1127, 1350, 1127, 1290, 1290, 1290, 1250, 1400, 1210, 1250,\n",
       "       1220, 1350, 1290, 1415, 1220, 1290, 1350, 1290, 1250, 1415, 1220,\n",
       "       1300, 1210, 1300, 1350, 1220, 1290, 1127, 1290, 1220, 1290, 1220,\n",
       "       1127, 1400, 1350, 1290, 1400, 1350, 1290, 1415], dtype=int64)"
      ]
     },
     "execution_count": 121,
     "metadata": {},
     "output_type": "execute_result"
    }
   ],
   "source": [
    "svfile=joblib.load(\"svmodel1.obj\")\n",
    "svfile.predict(x_train)"
   ]
  },
  {
   "cell_type": "code",
   "execution_count": null,
   "id": "f660bc33",
   "metadata": {},
   "outputs": [],
   "source": []
  }
 ],
 "metadata": {
  "kernelspec": {
   "display_name": "Python 3",
   "language": "python",
   "name": "python3"
  },
  "language_info": {
   "codemirror_mode": {
    "name": "ipython",
    "version": 3
   },
   "file_extension": ".py",
   "mimetype": "text/x-python",
   "name": "python",
   "nbconvert_exporter": "python",
   "pygments_lexer": "ipython3",
   "version": "3.8.8"
  }
 },
 "nbformat": 4,
 "nbformat_minor": 5
}
